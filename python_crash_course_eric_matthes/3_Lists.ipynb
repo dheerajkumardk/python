{
 "cells": [
  {
   "cell_type": "code",
   "execution_count": 1,
   "id": "d7a573c0-1684-4801-8ba2-ce4dcd0f3a28",
   "metadata": {},
   "outputs": [],
   "source": [
    "## Lists"
   ]
  },
  {
   "cell_type": "code",
   "execution_count": 7,
   "id": "c6811b6d-560f-4e45-8b3d-9801b6800651",
   "metadata": {},
   "outputs": [
    {
     "data": {
      "text/plain": [
       "['mango', 'lemon', 'grapes', 'apple', 'guava']"
      ]
     },
     "execution_count": 7,
     "metadata": {},
     "output_type": "execute_result"
    }
   ],
   "source": [
    "## Sorting a list\n",
    "fruits = ['mango', 'lemon', 'grapes', 'apple', 'guava']\n",
    "fruits"
   ]
  },
  {
   "cell_type": "code",
   "execution_count": 3,
   "id": "4391dd30-5e3e-4248-95ae-7d4340736cf7",
   "metadata": {},
   "outputs": [],
   "source": [
    "fruits.sort()"
   ]
  },
  {
   "cell_type": "code",
   "execution_count": 4,
   "id": "1361febd-dff7-465d-b1c2-171f2782bc49",
   "metadata": {},
   "outputs": [
    {
     "data": {
      "text/plain": [
       "['apple', 'grapes', 'guava', 'lemon', 'mango']"
      ]
     },
     "execution_count": 4,
     "metadata": {},
     "output_type": "execute_result"
    }
   ],
   "source": [
    "fruits"
   ]
  },
  {
   "cell_type": "code",
   "execution_count": 5,
   "id": "0661063b-3cb0-4a86-9b58-ec689e3e5c70",
   "metadata": {},
   "outputs": [],
   "source": [
    "fruits.sort(reverse=True)"
   ]
  },
  {
   "cell_type": "code",
   "execution_count": 6,
   "id": "e847838a-29b1-48d8-b287-32d463ee6c71",
   "metadata": {},
   "outputs": [
    {
     "data": {
      "text/plain": [
       "['mango', 'lemon', 'guava', 'grapes', 'apple']"
      ]
     },
     "execution_count": 6,
     "metadata": {},
     "output_type": "execute_result"
    }
   ],
   "source": [
    "fruits"
   ]
  },
  {
   "cell_type": "code",
   "execution_count": 8,
   "id": "ae8c2262-44cd-45f2-b1e6-3a69af2c4c4e",
   "metadata": {},
   "outputs": [
    {
     "data": {
      "text/plain": [
       "['apple', 'grapes', 'guava', 'lemon', 'mango']"
      ]
     },
     "execution_count": 8,
     "metadata": {},
     "output_type": "execute_result"
    }
   ],
   "source": [
    "## sorted - doesn't makes changes to actual list.\n",
    "sorted(fruits)"
   ]
  },
  {
   "cell_type": "code",
   "execution_count": 9,
   "id": "2c1796d2-03fd-4e42-88d1-2392d8939069",
   "metadata": {},
   "outputs": [
    {
     "data": {
      "text/plain": [
       "['mango', 'lemon', 'grapes', 'apple', 'guava']"
      ]
     },
     "execution_count": 9,
     "metadata": {},
     "output_type": "execute_result"
    }
   ],
   "source": [
    "fruits"
   ]
  },
  {
   "cell_type": "code",
   "execution_count": 10,
   "id": "63d1fd74-dc4c-419f-b857-cf5285abe10c",
   "metadata": {},
   "outputs": [],
   "source": [
    "## Printing a list in reverse order"
   ]
  },
  {
   "cell_type": "code",
   "execution_count": 11,
   "id": "47a0e2e5-3a67-4df1-8594-43615f8059f6",
   "metadata": {},
   "outputs": [
    {
     "data": {
      "text/plain": [
       "['bmw', 'audi', 'jaguar', 'benz', 'toyota']"
      ]
     },
     "execution_count": 11,
     "metadata": {},
     "output_type": "execute_result"
    }
   ],
   "source": [
    "cars = ['bmw', 'audi', 'jaguar', 'benz', 'toyota']\n",
    "cars"
   ]
  },
  {
   "cell_type": "code",
   "execution_count": 16,
   "id": "ed2962ed-46f6-45d8-9d30-89c87f066b92",
   "metadata": {},
   "outputs": [],
   "source": [
    "## reverse - changes the order [left-> right] To [right -> left]\n",
    "cars.reverse()"
   ]
  },
  {
   "cell_type": "code",
   "execution_count": 17,
   "id": "bbf5b363-964a-45a6-a752-1e876662ec0c",
   "metadata": {},
   "outputs": [
    {
     "data": {
      "text/plain": [
       "['toyota', 'benz', 'jaguar', 'audi', 'bmw']"
      ]
     },
     "execution_count": 17,
     "metadata": {},
     "output_type": "execute_result"
    }
   ],
   "source": [
    "cars"
   ]
  },
  {
   "cell_type": "code",
   "execution_count": 18,
   "id": "a06812db-daaf-4e66-b0ae-590bb1df6102",
   "metadata": {},
   "outputs": [
    {
     "data": {
      "text/plain": [
       "5"
      ]
     },
     "execution_count": 18,
     "metadata": {},
     "output_type": "execute_result"
    }
   ],
   "source": [
    "## length of a list\n",
    "len(cars)"
   ]
  },
  {
   "cell_type": "code",
   "execution_count": 19,
   "id": "18856e81-9230-4d9b-ae3e-546822f57db7",
   "metadata": {},
   "outputs": [
    {
     "data": {
      "text/plain": [
       "['Jammu', 'Rishikesh', 'Kerala', 'Assam', 'Jodhpur']"
      ]
     },
     "execution_count": 19,
     "metadata": {},
     "output_type": "execute_result"
    }
   ],
   "source": [
    "places = ['Jammu', 'Rishikesh', 'Kerala', 'Assam', 'Jodhpur']\n",
    "places"
   ]
  },
  {
   "cell_type": "code",
   "execution_count": 20,
   "id": "ddc6816e-3d76-4f3f-bad2-34d9cd72b43d",
   "metadata": {},
   "outputs": [
    {
     "data": {
      "text/plain": [
       "['Assam', 'Jammu', 'Jodhpur', 'Kerala', 'Rishikesh']"
      ]
     },
     "execution_count": 20,
     "metadata": {},
     "output_type": "execute_result"
    }
   ],
   "source": [
    "sorted(places)"
   ]
  },
  {
   "cell_type": "code",
   "execution_count": 25,
   "id": "086f38fb-9847-434f-8272-649dbfd41aab",
   "metadata": {},
   "outputs": [
    {
     "data": {
      "text/plain": [
       "['Rishikesh', 'Kerala', 'Jodhpur', 'Jammu', 'Assam']"
      ]
     },
     "execution_count": 25,
     "metadata": {},
     "output_type": "execute_result"
    }
   ],
   "source": [
    "sorted(places, reverse=True)"
   ]
  },
  {
   "cell_type": "code",
   "execution_count": 26,
   "id": "56f17505-2802-4cb8-b73f-ba57d492258d",
   "metadata": {},
   "outputs": [
    {
     "data": {
      "text/plain": [
       "['Jammu', 'Rishikesh', 'Kerala', 'Assam', 'Jodhpur']"
      ]
     },
     "execution_count": 26,
     "metadata": {},
     "output_type": "execute_result"
    }
   ],
   "source": [
    "places"
   ]
  },
  {
   "cell_type": "code",
   "execution_count": 27,
   "id": "c27b5a57-440b-4fae-bf97-c82991664a59",
   "metadata": {},
   "outputs": [],
   "source": [
    "places.reverse()"
   ]
  },
  {
   "cell_type": "code",
   "execution_count": 28,
   "id": "8e0addd1-7fd7-4c97-aeda-319b9289a8d4",
   "metadata": {},
   "outputs": [
    {
     "data": {
      "text/plain": [
       "['Jodhpur', 'Assam', 'Kerala', 'Rishikesh', 'Jammu']"
      ]
     },
     "execution_count": 28,
     "metadata": {},
     "output_type": "execute_result"
    }
   ],
   "source": [
    "places"
   ]
  },
  {
   "cell_type": "code",
   "execution_count": 29,
   "id": "e2287157-2669-49cc-a603-63fe838ebe26",
   "metadata": {},
   "outputs": [
    {
     "data": {
      "text/plain": [
       "['Jammu', 'Rishikesh', 'Kerala', 'Assam', 'Jodhpur']"
      ]
     },
     "execution_count": 29,
     "metadata": {},
     "output_type": "execute_result"
    }
   ],
   "source": [
    "places.reverse()\n",
    "places"
   ]
  },
  {
   "cell_type": "code",
   "execution_count": 31,
   "id": "a346f3fd-d768-4e48-86a5-c172c3c18058",
   "metadata": {},
   "outputs": [],
   "source": [
    "places.sort()"
   ]
  },
  {
   "cell_type": "code",
   "execution_count": 32,
   "id": "d211ea30-87e4-496c-843b-8184371904bc",
   "metadata": {},
   "outputs": [
    {
     "data": {
      "text/plain": [
       "['Assam', 'Jammu', 'Jodhpur', 'Kerala', 'Rishikesh']"
      ]
     },
     "execution_count": 32,
     "metadata": {},
     "output_type": "execute_result"
    }
   ],
   "source": [
    "places"
   ]
  },
  {
   "cell_type": "code",
   "execution_count": 37,
   "id": "cf715d2b-6263-4eaa-9073-b65bf16e47bd",
   "metadata": {},
   "outputs": [
    {
     "data": {
      "text/plain": [
       "['Rishikesh', 'Kerala', 'Jodhpur', 'Jammu', 'Assam']"
      ]
     },
     "execution_count": 37,
     "metadata": {},
     "output_type": "execute_result"
    }
   ],
   "source": [
    "places.sort(reverse=True)\n",
    "places"
   ]
  },
  {
   "cell_type": "code",
   "execution_count": 38,
   "id": "9f742748-9169-4409-baac-b9eb4dcc6baf",
   "metadata": {},
   "outputs": [],
   "source": [
    "# WORKING WITH LISTS"
   ]
  },
  {
   "cell_type": "code",
   "execution_count": 39,
   "id": "b487de38-b03e-4c3f-bc3a-fbeb59ef3339",
   "metadata": {},
   "outputs": [
    {
     "name": "stdout",
     "output_type": "stream",
     "text": [
      "mango\n",
      "kiwi\n",
      "grapes\n",
      "guava\n",
      "apple\n"
     ]
    }
   ],
   "source": [
    "# Loop through a list\n",
    "fruits = ['mango', 'kiwi', 'grapes', 'guava', 'apple']\n",
    "for fruit in fruits:\n",
    "    print(fruit)"
   ]
  },
  {
   "cell_type": "code",
   "execution_count": 41,
   "id": "83d0b291-3b68-4709-8f6e-194d2fa5d5ec",
   "metadata": {},
   "outputs": [
    {
     "name": "stdout",
     "output_type": "stream",
     "text": [
      "I'll be owning the Audi soon.\n",
      "I'll be owning the Bmw soon.\n",
      "I'll be owning the Jaguar soon.\n",
      "I'll be owning the Mercedes soon.\n",
      "Ohh! All these cars are parked in my garage.\n"
     ]
    }
   ],
   "source": [
    "cars = ['audi', 'bmw', 'jaguar', 'mercedes']\n",
    "for car in cars:\n",
    "    print(f\"I'll be owning the {car.title()} soon.\")\n",
    "print(\"Ohh! All these cars are parked in my garage.\")"
   ]
  },
  {
   "cell_type": "code",
   "execution_count": 42,
   "id": "3e4e1715-acbc-4747-8cdf-aad6581f4900",
   "metadata": {},
   "outputs": [
    {
     "name": "stdout",
     "output_type": "stream",
     "text": [
      "small\n",
      "medium\n",
      "large\n"
     ]
    }
   ],
   "source": [
    "pizzas = ['small', 'medium', 'large']\n",
    "for pizza in pizzas:\n",
    "    print(pizza)"
   ]
  },
  {
   "cell_type": "code",
   "execution_count": 43,
   "id": "8bafe814-f1ee-4617-abaa-278123cdc9b7",
   "metadata": {},
   "outputs": [
    {
     "name": "stdout",
     "output_type": "stream",
     "text": [
      "I will eat a small pizza.\n",
      "I will eat a medium pizza.\n",
      "I will eat a large pizza.\n"
     ]
    }
   ],
   "source": [
    "for pizza in pizzas:\n",
    "    print(f\"I will eat a {pizza} pizza.\")"
   ]
  },
  {
   "cell_type": "code",
   "execution_count": 44,
   "id": "b67c3be1-2144-4f45-87fb-d51309be8d74",
   "metadata": {},
   "outputs": [
    {
     "name": "stdout",
     "output_type": "stream",
     "text": [
      "I will eat a small pizza.\n",
      "I will eat a medium pizza.\n",
      "I will eat a large pizza.\n",
      "I am not that big a fan of pizza.\n"
     ]
    }
   ],
   "source": [
    "for pizza in pizzas:\n",
    "    print(f\"I will eat a {pizza} pizza.\")\n",
    "print(\"I am not that big a fan of pizza.\")"
   ]
  },
  {
   "cell_type": "code",
   "execution_count": 45,
   "id": "687db08d-4dba-4941-a041-3dfd2f5318f5",
   "metadata": {},
   "outputs": [
    {
     "name": "stdout",
     "output_type": "stream",
     "text": [
      "cow\n",
      "tiger\n",
      "lion\n"
     ]
    }
   ],
   "source": [
    "animals = ['elephant', 'tiger', 'lion']\n",
    "for animal in animals:\n",
    "    print(animal)"
   ]
  },
  {
   "cell_type": "code",
   "execution_count": 46,
   "id": "89dbb15d-f27e-43aa-84a7-8f03a4fe359a",
   "metadata": {},
   "outputs": [
    {
     "name": "stdout",
     "output_type": "stream",
     "text": [
      "The Cow can be spotted in the forest on the outskirts of the city.\n",
      "The Tiger can be spotted in the forest on the outskirts of the city.\n",
      "The Lion can be spotted in the forest on the outskirts of the city.\n"
     ]
    }
   ],
   "source": [
    "for animal in animals:\n",
    "    print(f\"The {animal.title()} can be spotted in the forest on the outskirts of the city.\")"
   ]
  },
  {
   "cell_type": "code",
   "execution_count": 47,
   "id": "4678d242-4127-4489-a804-078a9b0fa2e1",
   "metadata": {},
   "outputs": [
    {
     "name": "stdout",
     "output_type": "stream",
     "text": [
      "The Cow can be spotted in the forest on the outskirts of the city.\n",
      "The Tiger can be spotted in the forest on the outskirts of the city.\n",
      "The Lion can be spotted in the forest on the outskirts of the city.\n",
      "All these above animals are mammals.\n"
     ]
    }
   ],
   "source": [
    "for animal in animals:\n",
    "    print(f\"The {animal.title()} can be spotted in the forest on the outskirts of the city.\")\n",
    "\n",
    "print(\"All these above animals are mammals.\")"
   ]
  },
  {
   "cell_type": "code",
   "execution_count": 48,
   "id": "64d6cf73-fcfc-4e8f-a53b-6e506329ef5a",
   "metadata": {},
   "outputs": [],
   "source": [
    "## Numerical Lists"
   ]
  },
  {
   "cell_type": "code",
   "execution_count": 49,
   "id": "631676f1-5fd2-40d9-a6af-4ec3a269aafb",
   "metadata": {},
   "outputs": [
    {
     "name": "stdout",
     "output_type": "stream",
     "text": [
      "1\n",
      "2\n",
      "3\n",
      "4\n"
     ]
    }
   ],
   "source": [
    "for value in range(1,5):\n",
    "    print(value)"
   ]
  },
  {
   "cell_type": "code",
   "execution_count": 50,
   "id": "eabadf2d-4fa1-4bcb-8b7e-2b4ee60bf2d3",
   "metadata": {},
   "outputs": [
    {
     "data": {
      "text/plain": [
       "[1, 2, 3, 4, 5]"
      ]
     },
     "execution_count": 50,
     "metadata": {},
     "output_type": "execute_result"
    }
   ],
   "source": [
    "numbers = list(range(1,6))\n",
    "numbers"
   ]
  },
  {
   "cell_type": "code",
   "execution_count": 52,
   "id": "26834d52-b1aa-4709-b3a7-fde92617978b",
   "metadata": {},
   "outputs": [
    {
     "data": {
      "text/plain": [
       "[2, 4, 6, 8, 10]"
      ]
     },
     "execution_count": 52,
     "metadata": {},
     "output_type": "execute_result"
    }
   ],
   "source": [
    "evens = list(range(2,11,2))\n",
    "evens"
   ]
  },
  {
   "cell_type": "code",
   "execution_count": 53,
   "id": "1bdb65d6-1341-4813-8413-0b81f2bb3f41",
   "metadata": {},
   "outputs": [
    {
     "data": {
      "text/plain": [
       "[1, 4, 9, 16, 25, 36, 49, 64, 81, 100]"
      ]
     },
     "execution_count": 53,
     "metadata": {},
     "output_type": "execute_result"
    }
   ],
   "source": [
    "squares = []\n",
    "for num in range(1,11):\n",
    "    squares.append(num ** 2)\n",
    "squares"
   ]
  },
  {
   "cell_type": "code",
   "execution_count": 57,
   "id": "f630ae1e-6a82-4937-a4e0-ca9a876baf65",
   "metadata": {},
   "outputs": [
    {
     "data": {
      "text/plain": [
       "45"
      ]
     },
     "execution_count": 57,
     "metadata": {},
     "output_type": "execute_result"
    }
   ],
   "source": [
    "digits = [1,2,3,4,5,6,7,8,9,0]\n",
    "min(digits)\n",
    "max(digits)\n",
    "sum(digits)"
   ]
  },
  {
   "cell_type": "code",
   "execution_count": 58,
   "id": "cfe609b4-1104-47ca-be38-119022c866be",
   "metadata": {},
   "outputs": [],
   "source": [
    "## List comprehension"
   ]
  },
  {
   "cell_type": "code",
   "execution_count": 59,
   "id": "7a1cef40-e1f2-4731-843b-6f6ee533fc8a",
   "metadata": {},
   "outputs": [
    {
     "data": {
      "text/plain": [
       "[1, 4, 9, 16, 25, 36, 49, 64, 81, 100]"
      ]
     },
     "execution_count": 59,
     "metadata": {},
     "output_type": "execute_result"
    }
   ],
   "source": [
    "squares = [num ** 2 for num in range(1,11)]\n",
    "squares           "
   ]
  },
  {
   "cell_type": "code",
   "execution_count": 61,
   "id": "28a8c753-f316-4589-b15f-6c0476b18e6c",
   "metadata": {},
   "outputs": [
    {
     "data": {
      "text/plain": [
       "[1, 8, 27, 64, 125, 216, 343, 512, 729, 1000]"
      ]
     },
     "execution_count": 61,
     "metadata": {},
     "output_type": "execute_result"
    }
   ],
   "source": [
    "cubes= [num ** 3 for num in range(1,11)]\n",
    "cubes"
   ]
  },
  {
   "cell_type": "code",
   "execution_count": 62,
   "id": "02fead68-a744-4f75-9890-6e6120e5d19e",
   "metadata": {},
   "outputs": [
    {
     "name": "stdout",
     "output_type": "stream",
     "text": [
      "1\n",
      "2\n",
      "3\n",
      "4\n",
      "5\n",
      "6\n",
      "7\n",
      "8\n",
      "9\n",
      "10\n",
      "11\n",
      "12\n",
      "13\n",
      "14\n",
      "15\n",
      "16\n",
      "17\n",
      "18\n",
      "19\n",
      "20\n"
     ]
    }
   ],
   "source": [
    "for num in range(1,21):\n",
    "    print(num)"
   ]
  },
  {
   "cell_type": "code",
   "execution_count": 64,
   "id": "aca6e3ac-b6ea-4442-9ccb-7e25e33cea29",
   "metadata": {},
   "outputs": [
    {
     "data": {
      "text/plain": [
       "[1,\n",
       " 2,\n",
       " 3,\n",
       " 4,\n",
       " 5,\n",
       " 6,\n",
       " 7,\n",
       " 8,\n",
       " 9,\n",
       " 10,\n",
       " 11,\n",
       " 12,\n",
       " 13,\n",
       " 14,\n",
       " 15,\n",
       " 16,\n",
       " 17,\n",
       " 18,\n",
       " 19,\n",
       " 20,\n",
       " 21,\n",
       " 22,\n",
       " 23,\n",
       " 24,\n",
       " 25,\n",
       " 26,\n",
       " 27,\n",
       " 28,\n",
       " 29,\n",
       " 30,\n",
       " 31,\n",
       " 32,\n",
       " 33,\n",
       " 34,\n",
       " 35,\n",
       " 36,\n",
       " 37,\n",
       " 38,\n",
       " 39,\n",
       " 40,\n",
       " 41,\n",
       " 42,\n",
       " 43,\n",
       " 44,\n",
       " 45,\n",
       " 46,\n",
       " 47,\n",
       " 48,\n",
       " 49,\n",
       " 50,\n",
       " 51,\n",
       " 52,\n",
       " 53,\n",
       " 54,\n",
       " 55,\n",
       " 56,\n",
       " 57,\n",
       " 58,\n",
       " 59,\n",
       " 60,\n",
       " 61,\n",
       " 62,\n",
       " 63,\n",
       " 64,\n",
       " 65,\n",
       " 66,\n",
       " 67,\n",
       " 68,\n",
       " 69,\n",
       " 70,\n",
       " 71,\n",
       " 72,\n",
       " 73,\n",
       " 74,\n",
       " 75,\n",
       " 76,\n",
       " 77,\n",
       " 78,\n",
       " 79,\n",
       " 80,\n",
       " 81,\n",
       " 82,\n",
       " 83,\n",
       " 84,\n",
       " 85,\n",
       " 86,\n",
       " 87,\n",
       " 88,\n",
       " 89,\n",
       " 90,\n",
       " 91,\n",
       " 92,\n",
       " 93,\n",
       " 94,\n",
       " 95,\n",
       " 96,\n",
       " 97,\n",
       " 98,\n",
       " 99,\n",
       " 100,\n",
       " 101,\n",
       " 102,\n",
       " 103,\n",
       " 104,\n",
       " 105,\n",
       " 106,\n",
       " 107,\n",
       " 108,\n",
       " 109,\n",
       " 110,\n",
       " 111,\n",
       " 112,\n",
       " 113,\n",
       " 114,\n",
       " 115,\n",
       " 116,\n",
       " 117,\n",
       " 118,\n",
       " 119,\n",
       " 120,\n",
       " 121,\n",
       " 122,\n",
       " 123,\n",
       " 124,\n",
       " 125,\n",
       " 126,\n",
       " 127,\n",
       " 128,\n",
       " 129,\n",
       " 130,\n",
       " 131,\n",
       " 132,\n",
       " 133,\n",
       " 134,\n",
       " 135,\n",
       " 136,\n",
       " 137,\n",
       " 138,\n",
       " 139,\n",
       " 140,\n",
       " 141,\n",
       " 142,\n",
       " 143,\n",
       " 144,\n",
       " 145,\n",
       " 146,\n",
       " 147,\n",
       " 148,\n",
       " 149,\n",
       " 150,\n",
       " 151,\n",
       " 152,\n",
       " 153,\n",
       " 154,\n",
       " 155,\n",
       " 156,\n",
       " 157,\n",
       " 158,\n",
       " 159,\n",
       " 160,\n",
       " 161,\n",
       " 162,\n",
       " 163,\n",
       " 164,\n",
       " 165,\n",
       " 166,\n",
       " 167,\n",
       " 168,\n",
       " 169,\n",
       " 170,\n",
       " 171,\n",
       " 172,\n",
       " 173,\n",
       " 174,\n",
       " 175,\n",
       " 176,\n",
       " 177,\n",
       " 178,\n",
       " 179,\n",
       " 180,\n",
       " 181,\n",
       " 182,\n",
       " 183,\n",
       " 184,\n",
       " 185,\n",
       " 186,\n",
       " 187,\n",
       " 188,\n",
       " 189,\n",
       " 190,\n",
       " 191,\n",
       " 192,\n",
       " 193,\n",
       " 194,\n",
       " 195,\n",
       " 196,\n",
       " 197,\n",
       " 198,\n",
       " 199,\n",
       " 200,\n",
       " 201,\n",
       " 202,\n",
       " 203,\n",
       " 204,\n",
       " 205,\n",
       " 206,\n",
       " 207,\n",
       " 208,\n",
       " 209,\n",
       " 210,\n",
       " 211,\n",
       " 212,\n",
       " 213,\n",
       " 214,\n",
       " 215,\n",
       " 216,\n",
       " 217,\n",
       " 218,\n",
       " 219,\n",
       " 220,\n",
       " 221,\n",
       " 222,\n",
       " 223,\n",
       " 224,\n",
       " 225,\n",
       " 226,\n",
       " 227,\n",
       " 228,\n",
       " 229,\n",
       " 230,\n",
       " 231,\n",
       " 232,\n",
       " 233,\n",
       " 234,\n",
       " 235,\n",
       " 236,\n",
       " 237,\n",
       " 238,\n",
       " 239,\n",
       " 240,\n",
       " 241,\n",
       " 242,\n",
       " 243,\n",
       " 244,\n",
       " 245,\n",
       " 246,\n",
       " 247,\n",
       " 248,\n",
       " 249,\n",
       " 250,\n",
       " 251,\n",
       " 252,\n",
       " 253,\n",
       " 254,\n",
       " 255,\n",
       " 256,\n",
       " 257,\n",
       " 258,\n",
       " 259,\n",
       " 260,\n",
       " 261,\n",
       " 262,\n",
       " 263,\n",
       " 264,\n",
       " 265,\n",
       " 266,\n",
       " 267,\n",
       " 268,\n",
       " 269,\n",
       " 270,\n",
       " 271,\n",
       " 272,\n",
       " 273,\n",
       " 274,\n",
       " 275,\n",
       " 276,\n",
       " 277,\n",
       " 278,\n",
       " 279,\n",
       " 280,\n",
       " 281,\n",
       " 282,\n",
       " 283,\n",
       " 284,\n",
       " 285,\n",
       " 286,\n",
       " 287,\n",
       " 288,\n",
       " 289,\n",
       " 290,\n",
       " 291,\n",
       " 292,\n",
       " 293,\n",
       " 294,\n",
       " 295,\n",
       " 296,\n",
       " 297,\n",
       " 298,\n",
       " 299,\n",
       " 300,\n",
       " 301,\n",
       " 302,\n",
       " 303,\n",
       " 304,\n",
       " 305,\n",
       " 306,\n",
       " 307,\n",
       " 308,\n",
       " 309,\n",
       " 310,\n",
       " 311,\n",
       " 312,\n",
       " 313,\n",
       " 314,\n",
       " 315,\n",
       " 316,\n",
       " 317,\n",
       " 318,\n",
       " 319,\n",
       " 320,\n",
       " 321,\n",
       " 322,\n",
       " 323,\n",
       " 324,\n",
       " 325,\n",
       " 326,\n",
       " 327,\n",
       " 328,\n",
       " 329,\n",
       " 330,\n",
       " 331,\n",
       " 332,\n",
       " 333,\n",
       " 334,\n",
       " 335,\n",
       " 336,\n",
       " 337,\n",
       " 338,\n",
       " 339,\n",
       " 340,\n",
       " 341,\n",
       " 342,\n",
       " 343,\n",
       " 344,\n",
       " 345,\n",
       " 346,\n",
       " 347,\n",
       " 348,\n",
       " 349,\n",
       " 350,\n",
       " 351,\n",
       " 352,\n",
       " 353,\n",
       " 354,\n",
       " 355,\n",
       " 356,\n",
       " 357,\n",
       " 358,\n",
       " 359,\n",
       " 360,\n",
       " 361,\n",
       " 362,\n",
       " 363,\n",
       " 364,\n",
       " 365,\n",
       " 366,\n",
       " 367,\n",
       " 368,\n",
       " 369,\n",
       " 370,\n",
       " 371,\n",
       " 372,\n",
       " 373,\n",
       " 374,\n",
       " 375,\n",
       " 376,\n",
       " 377,\n",
       " 378,\n",
       " 379,\n",
       " 380,\n",
       " 381,\n",
       " 382,\n",
       " 383,\n",
       " 384,\n",
       " 385,\n",
       " 386,\n",
       " 387,\n",
       " 388,\n",
       " 389,\n",
       " 390,\n",
       " 391,\n",
       " 392,\n",
       " 393,\n",
       " 394,\n",
       " 395,\n",
       " 396,\n",
       " 397,\n",
       " 398,\n",
       " 399,\n",
       " 400,\n",
       " 401,\n",
       " 402,\n",
       " 403,\n",
       " 404,\n",
       " 405,\n",
       " 406,\n",
       " 407,\n",
       " 408,\n",
       " 409,\n",
       " 410,\n",
       " 411,\n",
       " 412,\n",
       " 413,\n",
       " 414,\n",
       " 415,\n",
       " 416,\n",
       " 417,\n",
       " 418,\n",
       " 419,\n",
       " 420,\n",
       " 421,\n",
       " 422,\n",
       " 423,\n",
       " 424,\n",
       " 425,\n",
       " 426,\n",
       " 427,\n",
       " 428,\n",
       " 429,\n",
       " 430,\n",
       " 431,\n",
       " 432,\n",
       " 433,\n",
       " 434,\n",
       " 435,\n",
       " 436,\n",
       " 437,\n",
       " 438,\n",
       " 439,\n",
       " 440,\n",
       " 441,\n",
       " 442,\n",
       " 443,\n",
       " 444,\n",
       " 445,\n",
       " 446,\n",
       " 447,\n",
       " 448,\n",
       " 449,\n",
       " 450,\n",
       " 451,\n",
       " 452,\n",
       " 453,\n",
       " 454,\n",
       " 455,\n",
       " 456,\n",
       " 457,\n",
       " 458,\n",
       " 459,\n",
       " 460,\n",
       " 461,\n",
       " 462,\n",
       " 463,\n",
       " 464,\n",
       " 465,\n",
       " 466,\n",
       " 467,\n",
       " 468,\n",
       " 469,\n",
       " 470,\n",
       " 471,\n",
       " 472,\n",
       " 473,\n",
       " 474,\n",
       " 475,\n",
       " 476,\n",
       " 477,\n",
       " 478,\n",
       " 479,\n",
       " 480,\n",
       " 481,\n",
       " 482,\n",
       " 483,\n",
       " 484,\n",
       " 485,\n",
       " 486,\n",
       " 487,\n",
       " 488,\n",
       " 489,\n",
       " 490,\n",
       " 491,\n",
       " 492,\n",
       " 493,\n",
       " 494,\n",
       " 495,\n",
       " 496,\n",
       " 497,\n",
       " 498,\n",
       " 499,\n",
       " 500,\n",
       " 501,\n",
       " 502,\n",
       " 503,\n",
       " 504,\n",
       " 505,\n",
       " 506,\n",
       " 507,\n",
       " 508,\n",
       " 509,\n",
       " 510,\n",
       " 511,\n",
       " 512,\n",
       " 513,\n",
       " 514,\n",
       " 515,\n",
       " 516,\n",
       " 517,\n",
       " 518,\n",
       " 519,\n",
       " 520,\n",
       " 521,\n",
       " 522,\n",
       " 523,\n",
       " 524,\n",
       " 525,\n",
       " 526,\n",
       " 527,\n",
       " 528,\n",
       " 529,\n",
       " 530,\n",
       " 531,\n",
       " 532,\n",
       " 533,\n",
       " 534,\n",
       " 535,\n",
       " 536,\n",
       " 537,\n",
       " 538,\n",
       " 539,\n",
       " 540,\n",
       " 541,\n",
       " 542,\n",
       " 543,\n",
       " 544,\n",
       " 545,\n",
       " 546,\n",
       " 547,\n",
       " 548,\n",
       " 549,\n",
       " 550,\n",
       " 551,\n",
       " 552,\n",
       " 553,\n",
       " 554,\n",
       " 555,\n",
       " 556,\n",
       " 557,\n",
       " 558,\n",
       " 559,\n",
       " 560,\n",
       " 561,\n",
       " 562,\n",
       " 563,\n",
       " 564,\n",
       " 565,\n",
       " 566,\n",
       " 567,\n",
       " 568,\n",
       " 569,\n",
       " 570,\n",
       " 571,\n",
       " 572,\n",
       " 573,\n",
       " 574,\n",
       " 575,\n",
       " 576,\n",
       " 577,\n",
       " 578,\n",
       " 579,\n",
       " 580,\n",
       " 581,\n",
       " 582,\n",
       " 583,\n",
       " 584,\n",
       " 585,\n",
       " 586,\n",
       " 587,\n",
       " 588,\n",
       " 589,\n",
       " 590,\n",
       " 591,\n",
       " 592,\n",
       " 593,\n",
       " 594,\n",
       " 595,\n",
       " 596,\n",
       " 597,\n",
       " 598,\n",
       " 599,\n",
       " 600,\n",
       " 601,\n",
       " 602,\n",
       " 603,\n",
       " 604,\n",
       " 605,\n",
       " 606,\n",
       " 607,\n",
       " 608,\n",
       " 609,\n",
       " 610,\n",
       " 611,\n",
       " 612,\n",
       " 613,\n",
       " 614,\n",
       " 615,\n",
       " 616,\n",
       " 617,\n",
       " 618,\n",
       " 619,\n",
       " 620,\n",
       " 621,\n",
       " 622,\n",
       " 623,\n",
       " 624,\n",
       " 625,\n",
       " 626,\n",
       " 627,\n",
       " 628,\n",
       " 629,\n",
       " 630,\n",
       " 631,\n",
       " 632,\n",
       " 633,\n",
       " 634,\n",
       " 635,\n",
       " 636,\n",
       " 637,\n",
       " 638,\n",
       " 639,\n",
       " 640,\n",
       " 641,\n",
       " 642,\n",
       " 643,\n",
       " 644,\n",
       " 645,\n",
       " 646,\n",
       " 647,\n",
       " 648,\n",
       " 649,\n",
       " 650,\n",
       " 651,\n",
       " 652,\n",
       " 653,\n",
       " 654,\n",
       " 655,\n",
       " 656,\n",
       " 657,\n",
       " 658,\n",
       " 659,\n",
       " 660,\n",
       " 661,\n",
       " 662,\n",
       " 663,\n",
       " 664,\n",
       " 665,\n",
       " 666,\n",
       " 667,\n",
       " 668,\n",
       " 669,\n",
       " 670,\n",
       " 671,\n",
       " 672,\n",
       " 673,\n",
       " 674,\n",
       " 675,\n",
       " 676,\n",
       " 677,\n",
       " 678,\n",
       " 679,\n",
       " 680,\n",
       " 681,\n",
       " 682,\n",
       " 683,\n",
       " 684,\n",
       " 685,\n",
       " 686,\n",
       " 687,\n",
       " 688,\n",
       " 689,\n",
       " 690,\n",
       " 691,\n",
       " 692,\n",
       " 693,\n",
       " 694,\n",
       " 695,\n",
       " 696,\n",
       " 697,\n",
       " 698,\n",
       " 699,\n",
       " 700,\n",
       " 701,\n",
       " 702,\n",
       " 703,\n",
       " 704,\n",
       " 705,\n",
       " 706,\n",
       " 707,\n",
       " 708,\n",
       " 709,\n",
       " 710,\n",
       " 711,\n",
       " 712,\n",
       " 713,\n",
       " 714,\n",
       " 715,\n",
       " 716,\n",
       " 717,\n",
       " 718,\n",
       " 719,\n",
       " 720,\n",
       " 721,\n",
       " 722,\n",
       " 723,\n",
       " 724,\n",
       " 725,\n",
       " 726,\n",
       " 727,\n",
       " 728,\n",
       " 729,\n",
       " 730,\n",
       " 731,\n",
       " 732,\n",
       " 733,\n",
       " 734,\n",
       " 735,\n",
       " 736,\n",
       " 737,\n",
       " 738,\n",
       " 739,\n",
       " 740,\n",
       " 741,\n",
       " 742,\n",
       " 743,\n",
       " 744,\n",
       " 745,\n",
       " 746,\n",
       " 747,\n",
       " 748,\n",
       " 749,\n",
       " 750,\n",
       " 751,\n",
       " 752,\n",
       " 753,\n",
       " 754,\n",
       " 755,\n",
       " 756,\n",
       " 757,\n",
       " 758,\n",
       " 759,\n",
       " 760,\n",
       " 761,\n",
       " 762,\n",
       " 763,\n",
       " 764,\n",
       " 765,\n",
       " 766,\n",
       " 767,\n",
       " 768,\n",
       " 769,\n",
       " 770,\n",
       " 771,\n",
       " 772,\n",
       " 773,\n",
       " 774,\n",
       " 775,\n",
       " 776,\n",
       " 777,\n",
       " 778,\n",
       " 779,\n",
       " 780,\n",
       " 781,\n",
       " 782,\n",
       " 783,\n",
       " 784,\n",
       " 785,\n",
       " 786,\n",
       " 787,\n",
       " 788,\n",
       " 789,\n",
       " 790,\n",
       " 791,\n",
       " 792,\n",
       " 793,\n",
       " 794,\n",
       " 795,\n",
       " 796,\n",
       " 797,\n",
       " 798,\n",
       " 799,\n",
       " 800,\n",
       " 801,\n",
       " 802,\n",
       " 803,\n",
       " 804,\n",
       " 805,\n",
       " 806,\n",
       " 807,\n",
       " 808,\n",
       " 809,\n",
       " 810,\n",
       " 811,\n",
       " 812,\n",
       " 813,\n",
       " 814,\n",
       " 815,\n",
       " 816,\n",
       " 817,\n",
       " 818,\n",
       " 819,\n",
       " 820,\n",
       " 821,\n",
       " 822,\n",
       " 823,\n",
       " 824,\n",
       " 825,\n",
       " 826,\n",
       " 827,\n",
       " 828,\n",
       " 829,\n",
       " 830,\n",
       " 831,\n",
       " 832,\n",
       " 833,\n",
       " 834,\n",
       " 835,\n",
       " 836,\n",
       " 837,\n",
       " 838,\n",
       " 839,\n",
       " 840,\n",
       " 841,\n",
       " 842,\n",
       " 843,\n",
       " 844,\n",
       " 845,\n",
       " 846,\n",
       " 847,\n",
       " 848,\n",
       " 849,\n",
       " 850,\n",
       " 851,\n",
       " 852,\n",
       " 853,\n",
       " 854,\n",
       " 855,\n",
       " 856,\n",
       " 857,\n",
       " 858,\n",
       " 859,\n",
       " 860,\n",
       " 861,\n",
       " 862,\n",
       " 863,\n",
       " 864,\n",
       " 865,\n",
       " 866,\n",
       " 867,\n",
       " 868,\n",
       " 869,\n",
       " 870,\n",
       " 871,\n",
       " 872,\n",
       " 873,\n",
       " 874,\n",
       " 875,\n",
       " 876,\n",
       " 877,\n",
       " 878,\n",
       " 879,\n",
       " 880,\n",
       " 881,\n",
       " 882,\n",
       " 883,\n",
       " 884,\n",
       " 885,\n",
       " 886,\n",
       " 887,\n",
       " 888,\n",
       " 889,\n",
       " 890,\n",
       " 891,\n",
       " 892,\n",
       " 893,\n",
       " 894,\n",
       " 895,\n",
       " 896,\n",
       " 897,\n",
       " 898,\n",
       " 899,\n",
       " 900,\n",
       " 901,\n",
       " 902,\n",
       " 903,\n",
       " 904,\n",
       " 905,\n",
       " 906,\n",
       " 907,\n",
       " 908,\n",
       " 909,\n",
       " 910,\n",
       " 911,\n",
       " 912,\n",
       " 913,\n",
       " 914,\n",
       " 915,\n",
       " 916,\n",
       " 917,\n",
       " 918,\n",
       " 919,\n",
       " 920,\n",
       " 921,\n",
       " 922,\n",
       " 923,\n",
       " 924,\n",
       " 925,\n",
       " 926,\n",
       " 927,\n",
       " 928,\n",
       " 929,\n",
       " 930,\n",
       " 931,\n",
       " 932,\n",
       " 933,\n",
       " 934,\n",
       " 935,\n",
       " 936,\n",
       " 937,\n",
       " 938,\n",
       " 939,\n",
       " 940,\n",
       " 941,\n",
       " 942,\n",
       " 943,\n",
       " 944,\n",
       " 945,\n",
       " 946,\n",
       " 947,\n",
       " 948,\n",
       " 949,\n",
       " 950,\n",
       " 951,\n",
       " 952,\n",
       " 953,\n",
       " 954,\n",
       " 955,\n",
       " 956,\n",
       " 957,\n",
       " 958,\n",
       " 959,\n",
       " 960,\n",
       " 961,\n",
       " 962,\n",
       " 963,\n",
       " 964,\n",
       " 965,\n",
       " 966,\n",
       " 967,\n",
       " 968,\n",
       " 969,\n",
       " 970,\n",
       " 971,\n",
       " 972,\n",
       " 973,\n",
       " 974,\n",
       " 975,\n",
       " 976,\n",
       " 977,\n",
       " 978,\n",
       " 979,\n",
       " 980,\n",
       " 981,\n",
       " 982,\n",
       " 983,\n",
       " 984,\n",
       " 985,\n",
       " 986,\n",
       " 987,\n",
       " 988,\n",
       " 989,\n",
       " 990,\n",
       " 991,\n",
       " 992,\n",
       " 993,\n",
       " 994,\n",
       " 995,\n",
       " 996,\n",
       " 997,\n",
       " 998,\n",
       " 999,\n",
       " 1000,\n",
       " ...]"
      ]
     },
     "execution_count": 64,
     "metadata": {},
     "output_type": "execute_result"
    }
   ],
   "source": [
    "nums = list(range(1,1_000_000))\n",
    "nums"
   ]
  },
  {
   "cell_type": "code",
   "execution_count": 65,
   "id": "69a375bb-94e9-4cee-a035-fe29580799cb",
   "metadata": {},
   "outputs": [
    {
     "data": {
      "text/plain": [
       "1"
      ]
     },
     "execution_count": 65,
     "metadata": {},
     "output_type": "execute_result"
    }
   ],
   "source": [
    "min(nums)"
   ]
  },
  {
   "cell_type": "code",
   "execution_count": 66,
   "id": "c7af04d9-efb4-471b-b839-331aabf36084",
   "metadata": {},
   "outputs": [
    {
     "data": {
      "text/plain": [
       "999999"
      ]
     },
     "execution_count": 66,
     "metadata": {},
     "output_type": "execute_result"
    }
   ],
   "source": [
    "max(nums)"
   ]
  },
  {
   "cell_type": "code",
   "execution_count": 67,
   "id": "e28d8b36-d30f-4aac-ba6e-6c806d110b85",
   "metadata": {},
   "outputs": [
    {
     "data": {
      "text/plain": [
       "499999500000"
      ]
     },
     "execution_count": 67,
     "metadata": {},
     "output_type": "execute_result"
    }
   ],
   "source": [
    "sum(nums)"
   ]
  },
  {
   "cell_type": "code",
   "execution_count": 68,
   "id": "c03d4cd6-5860-4e91-8330-08de20158513",
   "metadata": {},
   "outputs": [
    {
     "data": {
      "text/plain": [
       "[1, 3, 5, 7, 9, 11, 13, 15, 17, 19]"
      ]
     },
     "execution_count": 68,
     "metadata": {},
     "output_type": "execute_result"
    }
   ],
   "source": [
    "odds = list(range(1,20,2))\n",
    "odds"
   ]
  },
  {
   "cell_type": "code",
   "execution_count": 69,
   "id": "dcace684-8d5d-44d0-b177-28985eb5ef30",
   "metadata": {},
   "outputs": [
    {
     "data": {
      "text/plain": [
       "[3, 6, 9, 12, 15, 18, 21, 24, 27, 30]"
      ]
     },
     "execution_count": 69,
     "metadata": {},
     "output_type": "execute_result"
    }
   ],
   "source": [
    "nums_3 = list(range(3,31,3))\n",
    "nums_3"
   ]
  },
  {
   "cell_type": "code",
   "execution_count": 70,
   "id": "41bca7fd-67f2-43e9-8fb8-64bd60667f88",
   "metadata": {},
   "outputs": [
    {
     "data": {
      "text/plain": [
       "[1, 8, 27, 64, 125, 216, 343, 512, 729, 1000]"
      ]
     },
     "execution_count": 70,
     "metadata": {},
     "output_type": "execute_result"
    }
   ],
   "source": [
    "cubes = []\n",
    "for num in range(1,11):\n",
    "    cubes.append(num ** 3)\n",
    "cubes"
   ]
  },
  {
   "cell_type": "code",
   "execution_count": 73,
   "id": "82406cf6-dfb8-424c-803c-8eb2d61ef98a",
   "metadata": {},
   "outputs": [
    {
     "data": {
      "text/plain": [
       "[1, 8, 27, 64, 125, 216, 343, 512, 729, 1000]"
      ]
     },
     "execution_count": 73,
     "metadata": {},
     "output_type": "execute_result"
    }
   ],
   "source": [
    "cubes = [num ** 3 for num in range(1,11)]\n",
    "cubes"
   ]
  },
  {
   "cell_type": "code",
   "execution_count": 74,
   "id": "d1fb5cbc-1a7d-4afb-ab65-1597c8dad266",
   "metadata": {},
   "outputs": [],
   "source": [
    "## Working with part of a list"
   ]
  },
  {
   "cell_type": "code",
   "execution_count": 75,
   "id": "54bd8786-a110-4c30-b384-bd5375d01e31",
   "metadata": {},
   "outputs": [],
   "source": [
    "## Slicing a list"
   ]
  },
  {
   "cell_type": "code",
   "execution_count": 76,
   "id": "0339e517-9b53-436f-b145-c4f835cfb443",
   "metadata": {},
   "outputs": [
    {
     "data": {
      "text/plain": [
       "['charles', 'martina', 'michael']"
      ]
     },
     "execution_count": 76,
     "metadata": {},
     "output_type": "execute_result"
    }
   ],
   "source": [
    "players = ['charles', 'martina', 'michael', 'florence', 'eli']\n",
    "players[0:3]"
   ]
  },
  {
   "cell_type": "code",
   "execution_count": 77,
   "id": "92b2aef0-6c7d-4a48-82e1-953294414715",
   "metadata": {},
   "outputs": [
    {
     "data": {
      "text/plain": [
       "['charles', 'martina', 'michael', 'florence', 'eli']"
      ]
     },
     "execution_count": 77,
     "metadata": {},
     "output_type": "execute_result"
    }
   ],
   "source": [
    "players[:]"
   ]
  },
  {
   "cell_type": "code",
   "execution_count": 78,
   "id": "98544554-a19e-44fb-ab12-e70bbd64c25a",
   "metadata": {},
   "outputs": [
    {
     "data": {
      "text/plain": [
       "['martina', 'michael', 'florence']"
      ]
     },
     "execution_count": 78,
     "metadata": {},
     "output_type": "execute_result"
    }
   ],
   "source": [
    "players[1:4]"
   ]
  },
  {
   "cell_type": "code",
   "execution_count": 79,
   "id": "b28c1d76-d3e5-4e28-83bf-2a5a0ee5f132",
   "metadata": {},
   "outputs": [
    {
     "data": {
      "text/plain": [
       "['charles', 'martina', 'michael', 'florence']"
      ]
     },
     "execution_count": 79,
     "metadata": {},
     "output_type": "execute_result"
    }
   ],
   "source": [
    "players[:4]"
   ]
  },
  {
   "cell_type": "code",
   "execution_count": 81,
   "id": "4e11cc46-4a02-4968-bb65-9cbe4dd03abc",
   "metadata": {},
   "outputs": [
    {
     "data": {
      "text/plain": [
       "['michael', 'florence', 'eli']"
      ]
     },
     "execution_count": 81,
     "metadata": {},
     "output_type": "execute_result"
    }
   ],
   "source": [
    "players[2:]"
   ]
  },
  {
   "cell_type": "code",
   "execution_count": 82,
   "id": "96117a26-6c39-4b39-b7f0-090767631649",
   "metadata": {},
   "outputs": [
    {
     "data": {
      "text/plain": [
       "['michael', 'florence', 'eli']"
      ]
     },
     "execution_count": 82,
     "metadata": {},
     "output_type": "execute_result"
    }
   ],
   "source": [
    "players[-3:]"
   ]
  },
  {
   "cell_type": "code",
   "execution_count": 83,
   "id": "5d527205-7ae0-4461-8f7d-e85164e84574",
   "metadata": {},
   "outputs": [
    {
     "data": {
      "text/plain": [
       "['charles', 'martina']"
      ]
     },
     "execution_count": 83,
     "metadata": {},
     "output_type": "execute_result"
    }
   ],
   "source": [
    "players[:-3]"
   ]
  },
  {
   "cell_type": "code",
   "execution_count": 84,
   "id": "5d27fccd-9a4c-49f9-bc8f-fe2a156bcad5",
   "metadata": {},
   "outputs": [
    {
     "data": {
      "text/plain": [
       "[]"
      ]
     },
     "execution_count": 84,
     "metadata": {},
     "output_type": "execute_result"
    }
   ],
   "source": [
    "players[-2:-4]"
   ]
  },
  {
   "cell_type": "code",
   "execution_count": 85,
   "id": "efcc9f64-0558-4150-aa85-0bcf80f8a926",
   "metadata": {},
   "outputs": [
    {
     "data": {
      "text/plain": [
       "['martina', 'michael']"
      ]
     },
     "execution_count": 85,
     "metadata": {},
     "output_type": "execute_result"
    }
   ],
   "source": [
    "players[-4:-2]"
   ]
  },
  {
   "cell_type": "code",
   "execution_count": 86,
   "id": "f268ae8e-bf35-4563-944d-c56a058694fe",
   "metadata": {},
   "outputs": [],
   "source": [
    "# Looping through a slice"
   ]
  },
  {
   "cell_type": "code",
   "execution_count": 87,
   "id": "355dedf7-3f35-4475-8cf5-9c125f715038",
   "metadata": {},
   "outputs": [
    {
     "data": {
      "text/plain": [
       "['charles', 'martina', 'michael', 'florence', 'eli']"
      ]
     },
     "execution_count": 87,
     "metadata": {},
     "output_type": "execute_result"
    }
   ],
   "source": [
    "players"
   ]
  },
  {
   "cell_type": "code",
   "execution_count": 89,
   "id": "11ee519c-fe76-4c33-88e0-e302f9a60b52",
   "metadata": {},
   "outputs": [
    {
     "name": "stdout",
     "output_type": "stream",
     "text": [
      "The first three players in my team are:\n",
      "Charles\n",
      "Martina\n",
      "Michael\n"
     ]
    }
   ],
   "source": [
    "print(\"The first three players in my team are:\")\n",
    "for player in players[:3]:\n",
    "    print(player.title())"
   ]
  },
  {
   "cell_type": "code",
   "execution_count": 93,
   "id": "3e663acf-9262-4e0d-a9f6-db8048af602f",
   "metadata": {},
   "outputs": [
    {
     "name": "stdout",
     "output_type": "stream",
     "text": [
      "['pizza', 'burger', 'sandwich', 'dosa']\n",
      "['pizza', 'burger', 'sandwich', 'fries']\n"
     ]
    }
   ],
   "source": [
    "foods = ['pizza', 'burger', 'sandwich', 'dosa']\n",
    "junks = foods[:3]\n",
    "print(foods)\n",
    "junks.append('fries')\n",
    "print(junks)"
   ]
  },
  {
   "cell_type": "code",
   "execution_count": 94,
   "id": "e9408805-d743-49f3-aa74-7abcd8a39437",
   "metadata": {},
   "outputs": [],
   "source": [
    "junks = foods"
   ]
  },
  {
   "cell_type": "code",
   "execution_count": 95,
   "id": "096fe4de-2b25-4b7e-8932-78c1ba033ee7",
   "metadata": {},
   "outputs": [
    {
     "data": {
      "text/plain": [
       "['pizza', 'burger', 'sandwich', 'dosa']"
      ]
     },
     "execution_count": 95,
     "metadata": {},
     "output_type": "execute_result"
    }
   ],
   "source": [
    "junks"
   ]
  },
  {
   "cell_type": "code",
   "execution_count": 98,
   "id": "72d24a82-a235-4cbc-b103-13f761543d68",
   "metadata": {},
   "outputs": [
    {
     "data": {
      "text/plain": [
       "['pizza', 'burger', 'sandwich', 'dosa']"
      ]
     },
     "execution_count": 98,
     "metadata": {},
     "output_type": "execute_result"
    }
   ],
   "source": [
    "foods"
   ]
  },
  {
   "cell_type": "code",
   "execution_count": 99,
   "id": "6b4ccce3-9fb6-42a0-9b16-7bfbd5c3f5a6",
   "metadata": {},
   "outputs": [
    {
     "data": {
      "text/plain": [
       "'dosa'"
      ]
     },
     "execution_count": 99,
     "metadata": {},
     "output_type": "execute_result"
    }
   ],
   "source": [
    "junks.pop()"
   ]
  },
  {
   "cell_type": "code",
   "execution_count": 100,
   "id": "92e428a8-ee39-4f8b-984b-351f888aad1e",
   "metadata": {},
   "outputs": [
    {
     "data": {
      "text/plain": [
       "['pizza', 'burger', 'sandwich']"
      ]
     },
     "execution_count": 100,
     "metadata": {},
     "output_type": "execute_result"
    }
   ],
   "source": [
    "junks"
   ]
  },
  {
   "cell_type": "code",
   "execution_count": 101,
   "id": "300500f4-d842-4c60-b394-100ec1f659b9",
   "metadata": {},
   "outputs": [
    {
     "data": {
      "text/plain": [
       "['pizza', 'burger', 'sandwich']"
      ]
     },
     "execution_count": 101,
     "metadata": {},
     "output_type": "execute_result"
    }
   ],
   "source": [
    "foods"
   ]
  },
  {
   "cell_type": "code",
   "execution_count": 102,
   "id": "c38c8dca-8b1d-4f6e-8ecf-58bb496dc7ae",
   "metadata": {},
   "outputs": [
    {
     "data": {
      "text/plain": [
       "['hunter', 'classic 350', 'meteor', 'interceptor', 'himalayan']"
      ]
     },
     "execution_count": 102,
     "metadata": {},
     "output_type": "execute_result"
    }
   ],
   "source": [
    "bikes = ['hunter', 'classic 350', 'meteor', 'interceptor', 'himalayan']\n",
    "bikes"
   ]
  },
  {
   "cell_type": "code",
   "execution_count": 103,
   "id": "18ec3336-aecc-4ee6-91ac-93b202c04e05",
   "metadata": {},
   "outputs": [
    {
     "name": "stdout",
     "output_type": "stream",
     "text": [
      "The first 3 bikes in the list are: \n",
      "Hunter\n",
      "Classic 350\n",
      "Meteor\n"
     ]
    }
   ],
   "source": [
    "print(\"The first 3 bikes in the list are: \")\n",
    "for bike in bikes[:3]:\n",
    "    print(bike.title())"
   ]
  },
  {
   "cell_type": "code",
   "execution_count": 104,
   "id": "434f508a-c005-4e1e-8d21-d2dfc4812bb7",
   "metadata": {},
   "outputs": [
    {
     "name": "stdout",
     "output_type": "stream",
     "text": [
      "Classic 350\n",
      "Meteor\n",
      "Interceptor\n"
     ]
    }
   ],
   "source": [
    "bikes_len = len(bikes)\n",
    "middle = int(bikes_len/2)\n",
    "for bike in bikes[middle-1:middle+2]:\n",
    "    print(bike.title())"
   ]
  },
  {
   "cell_type": "code",
   "execution_count": 105,
   "id": "fc24364e-3ee0-43ad-b675-2aa4d07dfcf9",
   "metadata": {},
   "outputs": [
    {
     "name": "stdout",
     "output_type": "stream",
     "text": [
      "Last three bikes in the list are: \n",
      "Meteor\n",
      "Interceptor\n",
      "Himalayan\n"
     ]
    }
   ],
   "source": [
    "print(\"Last three bikes in the list are: \")\n",
    "for bike in bikes[-3:]:\n",
    "    print(bike.title())"
   ]
  },
  {
   "cell_type": "code",
   "execution_count": 106,
   "id": "a3902ac0-d749-47ce-8bda-02da1c4be112",
   "metadata": {},
   "outputs": [],
   "source": [
    "lists = ['hello', 2]"
   ]
  },
  {
   "cell_type": "code",
   "execution_count": 107,
   "id": "43711369-13e3-4159-a523-d3c2172b6590",
   "metadata": {},
   "outputs": [
    {
     "data": {
      "text/plain": [
       "['hello', 2]"
      ]
     },
     "execution_count": 107,
     "metadata": {},
     "output_type": "execute_result"
    }
   ],
   "source": [
    "lists"
   ]
  },
  {
   "cell_type": "code",
   "execution_count": 108,
   "id": "dc10ff1a-8f70-4afc-8166-22c6eb666d19",
   "metadata": {},
   "outputs": [],
   "source": [
    "### Tuples"
   ]
  },
  {
   "cell_type": "code",
   "execution_count": 114,
   "id": "990d7b9b-30d0-4eb8-8243-9d0cfd0a2f44",
   "metadata": {},
   "outputs": [
    {
     "name": "stdout",
     "output_type": "stream",
     "text": [
      "20\n",
      "5\n"
     ]
    }
   ],
   "source": [
    "dimensions = (20, 5)\n",
    "print(dimensions[0])\n",
    "print(dimensions[1])"
   ]
  },
  {
   "cell_type": "code",
   "execution_count": 116,
   "id": "922618d6-42c9-439e-ad0e-3672e5f4855b",
   "metadata": {},
   "outputs": [],
   "source": [
    "dimensions = (25, 10)"
   ]
  },
  {
   "cell_type": "code",
   "execution_count": 117,
   "id": "f914208d-0309-41f8-90bf-ef12ad272894",
   "metadata": {},
   "outputs": [
    {
     "data": {
      "text/plain": [
       "(25, 10)"
      ]
     },
     "execution_count": 117,
     "metadata": {},
     "output_type": "execute_result"
    }
   ],
   "source": [
    "dimensions"
   ]
  },
  {
   "cell_type": "code",
   "execution_count": 118,
   "id": "264abbe5-6b50-4a07-a74b-4cb4d32466d2",
   "metadata": {},
   "outputs": [],
   "source": [
    "## Note: Tuple's individual element cannot be changed, but the tuple can be."
   ]
  },
  {
   "cell_type": "code",
   "execution_count": 123,
   "id": "30246557-c05d-40ce-97cc-493b950c7def",
   "metadata": {},
   "outputs": [],
   "source": [
    "my_t = (3, 4, 5)"
   ]
  },
  {
   "cell_type": "code",
   "execution_count": 124,
   "id": "b0b11275-93a2-4205-9411-766ab6328cc6",
   "metadata": {},
   "outputs": [
    {
     "data": {
      "text/plain": [
       "tuple"
      ]
     },
     "execution_count": 124,
     "metadata": {},
     "output_type": "execute_result"
    }
   ],
   "source": [
    "type(my_t)"
   ]
  },
  {
   "cell_type": "code",
   "execution_count": 125,
   "id": "2cf3e22e-88ad-4bd7-a740-ee818e19e9a9",
   "metadata": {},
   "outputs": [
    {
     "name": "stdout",
     "output_type": "stream",
     "text": [
      "3\n",
      "4\n",
      "5\n"
     ]
    }
   ],
   "source": [
    "for i in my_t:\n",
    "    print(i)"
   ]
  },
  {
   "cell_type": "code",
   "execution_count": 126,
   "id": "30655b99-bbb4-41e2-ba5a-6f0a9997a1ff",
   "metadata": {},
   "outputs": [],
   "source": [
    "fooods = ('puri', 'sabji', 'rice', 'dal', 'curry')"
   ]
  },
  {
   "cell_type": "code",
   "execution_count": 127,
   "id": "bc8112f0-5490-482d-abbd-c3cb85b9146d",
   "metadata": {},
   "outputs": [
    {
     "data": {
      "text/plain": [
       "('puri', 'sabji', 'rice', 'dal', 'curry')"
      ]
     },
     "execution_count": 127,
     "metadata": {},
     "output_type": "execute_result"
    }
   ],
   "source": [
    "fooods"
   ]
  },
  {
   "cell_type": "code",
   "execution_count": 128,
   "id": "bc762b7e-3aa6-4289-baa6-9d6786e640f3",
   "metadata": {},
   "outputs": [
    {
     "name": "stdout",
     "output_type": "stream",
     "text": [
      "puri\n",
      "sabji\n",
      "rice\n",
      "dal\n",
      "curry\n"
     ]
    }
   ],
   "source": [
    "for food_item in fooods:\n",
    "    print(food_item)"
   ]
  },
  {
   "cell_type": "code",
   "execution_count": 129,
   "id": "d1d3483c-033d-4b3f-83ea-f291b3579381",
   "metadata": {},
   "outputs": [
    {
     "ename": "TypeError",
     "evalue": "'tuple' object does not support item assignment",
     "output_type": "error",
     "traceback": [
      "\u001b[0;31m---------------------------------------------------------------------------\u001b[0m",
      "\u001b[0;31mTypeError\u001b[0m                                 Traceback (most recent call last)",
      "Cell \u001b[0;32mIn[129], line 1\u001b[0m\n\u001b[0;32m----> 1\u001b[0m fooods[\u001b[38;5;241m4\u001b[39m] \u001b[38;5;241m=\u001b[39m \u001b[38;5;124m'\u001b[39m\u001b[38;5;124mraita\u001b[39m\u001b[38;5;124m'\u001b[39m\n",
      "\u001b[0;31mTypeError\u001b[0m: 'tuple' object does not support item assignment"
     ]
    }
   ],
   "source": [
    "fooods[4] = 'raita'"
   ]
  },
  {
   "cell_type": "code",
   "execution_count": 131,
   "id": "4356cd0f-6682-4062-b2a9-73bf09df6644",
   "metadata": {},
   "outputs": [
    {
     "data": {
      "text/plain": [
       "('puri', 'sabji', 'jira rice', 'dal', 'raita')"
      ]
     },
     "execution_count": 131,
     "metadata": {},
     "output_type": "execute_result"
    }
   ],
   "source": [
    "fooods = ('puri','sabji','jira rice','dal','raita')\n",
    "fooods"
   ]
  },
  {
   "cell_type": "code",
   "execution_count": 132,
   "id": "a6ab5cd9-80b3-40fe-810b-bff1debfe2cd",
   "metadata": {},
   "outputs": [
    {
     "name": "stdout",
     "output_type": "stream",
     "text": [
      "puri\n",
      "sabji\n",
      "jira rice\n",
      "dal\n",
      "raita\n"
     ]
    }
   ],
   "source": [
    "for food_item in fooods:\n",
    "    print(food_item)"
   ]
  },
  {
   "cell_type": "code",
   "execution_count": null,
   "id": "cbd943dd-b7f4-43dc-9783-6ff511fedb49",
   "metadata": {},
   "outputs": [],
   "source": []
  }
 ],
 "metadata": {
  "kernelspec": {
   "display_name": "Python 3 (ipykernel)",
   "language": "python",
   "name": "python3"
  },
  "language_info": {
   "codemirror_mode": {
    "name": "ipython",
    "version": 3
   },
   "file_extension": ".py",
   "mimetype": "text/x-python",
   "name": "python",
   "nbconvert_exporter": "python",
   "pygments_lexer": "ipython3",
   "version": "3.11.5"
  }
 },
 "nbformat": 4,
 "nbformat_minor": 5
}
