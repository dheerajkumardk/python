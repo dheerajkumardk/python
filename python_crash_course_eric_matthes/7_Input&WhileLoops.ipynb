{
 "cells": [
  {
   "cell_type": "code",
   "execution_count": 1,
   "id": "392c8649-a2b7-49ca-bc54-07df647ec9b4",
   "metadata": {},
   "outputs": [],
   "source": [
    "## Input & While Loops"
   ]
  },
  {
   "cell_type": "code",
   "execution_count": 2,
   "id": "83e33b9d-8287-47b0-81e1-7572212cb090",
   "metadata": {},
   "outputs": [
    {
     "name": "stdin",
     "output_type": "stream",
     "text": [
      "Tell me something and I'll repeat it Ram Ram saare ne!\n"
     ]
    },
    {
     "name": "stdout",
     "output_type": "stream",
     "text": [
      "Ram Ram saare ne!\n"
     ]
    }
   ],
   "source": [
    "message = input(\"Tell me something and I'll repeat it: \")\n",
    "print(message)"
   ]
  },
  {
   "cell_type": "code",
   "execution_count": 3,
   "id": "295c2a48-0757-40b6-9b26-57df5cb87a36",
   "metadata": {},
   "outputs": [
    {
     "name": "stdin",
     "output_type": "stream",
     "text": [
      "Please enter your name:  Kumar\n"
     ]
    },
    {
     "name": "stdout",
     "output_type": "stream",
     "text": [
      "\n",
      "Hello Kumar!\n"
     ]
    }
   ],
   "source": [
    "name = input(\"Please enter your name: \")\n",
    "print(f\"\\nHello {name}!\")"
   ]
  },
  {
   "cell_type": "code",
   "execution_count": 5,
   "id": "645acae1-df27-453d-95f9-4b04d6ad7ad7",
   "metadata": {},
   "outputs": [
    {
     "name": "stdin",
     "output_type": "stream",
     "text": [
      "If you tell us who you are, we can personalize the messages you see.\n",
      "What is your first name? Joe\n"
     ]
    },
    {
     "name": "stdout",
     "output_type": "stream",
     "text": [
      "Hello, Joe\n"
     ]
    }
   ],
   "source": [
    "name = input(\"If you tell us who you are, we can personalize the messages you see.\\nWhat is your first name?\")\n",
    "print(f\"Hello, {name}\")"
   ]
  },
  {
   "cell_type": "code",
   "execution_count": 6,
   "id": "50d5c76d-d50a-4bc7-ba31-b032d5b21848",
   "metadata": {},
   "outputs": [
    {
     "name": "stdin",
     "output_type": "stream",
     "text": [
      "What kind of rental car you would like?  mercedes\n"
     ]
    },
    {
     "name": "stdout",
     "output_type": "stream",
     "text": [
      "Lemme see if we can arrange for a mercedes.\n"
     ]
    }
   ],
   "source": [
    "car = input(\"What kind of rental car you would like? \")\n",
    "print(f\"Lemme see if we can arrange for a {car}.\")"
   ]
  },
  {
   "cell_type": "code",
   "execution_count": 9,
   "id": "df04cf9b-5ec1-49c4-b553-6286d46cb315",
   "metadata": {},
   "outputs": [
    {
     "name": "stdin",
     "output_type": "stream",
     "text": [
      "How many people are there in your group?  8\n"
     ]
    },
    {
     "name": "stdout",
     "output_type": "stream",
     "text": [
      "Your table is ready.\n"
     ]
    }
   ],
   "source": [
    "group_size = int(input(\"How many people are there in your group? \"))\n",
    "if group_size > 8:\n",
    "    print(\"You'll have to wait for a table.\")\n",
    "else:\n",
    "    print(\"Your table is ready.\")"
   ]
  },
  {
   "cell_type": "code",
   "execution_count": 11,
   "id": "94f46eef-670e-4ffd-b63c-963c80a3ffe3",
   "metadata": {},
   "outputs": [
    {
     "name": "stdin",
     "output_type": "stream",
     "text": [
      "Enter a number:  8\n"
     ]
    },
    {
     "name": "stdout",
     "output_type": "stream",
     "text": [
      "8 is not a multiple of 10.\n"
     ]
    }
   ],
   "source": [
    "num = int(input(\"Enter a number: \"))\n",
    "if num % 10 == 0:\n",
    "    print(f\"{num} is a multiple of 10.\")\n",
    "else:\n",
    "    print(f\"{num} is not a multiple of 10.\")"
   ]
  },
  {
   "cell_type": "code",
   "execution_count": 12,
   "id": "f0872c9c-d3b6-446e-a305-3439e4b5fe23",
   "metadata": {},
   "outputs": [],
   "source": [
    "## WHILE LOOPS"
   ]
  },
  {
   "cell_type": "code",
   "execution_count": 13,
   "id": "6bba7ed4-cda7-46cb-8017-c4ad087e457a",
   "metadata": {},
   "outputs": [
    {
     "name": "stdout",
     "output_type": "stream",
     "text": [
      "1\n",
      "2\n",
      "3\n",
      "4\n",
      "5\n"
     ]
    }
   ],
   "source": [
    "num = 1\n",
    "while num <= 5:\n",
    "    print(num)\n",
    "    num += 1\n"
   ]
  },
  {
   "cell_type": "code",
   "execution_count": 14,
   "id": "81c46467-64a1-47fa-9b56-fa16e0c46ebf",
   "metadata": {},
   "outputs": [],
   "source": [
    "# Let the user end the pgm when they type in \"quit\", else let it ask for input continuously."
   ]
  },
  {
   "cell_type": "code",
   "execution_count": 17,
   "id": "1cfbf567-22b9-452f-8d66-a7e9fdbd6d9c",
   "metadata": {},
   "outputs": [
    {
     "name": "stdin",
     "output_type": "stream",
     "text": [
      "\n",
      "Tell me what's wrong with you, and I'll keep asking until you tell.\n",
      "Enter 'quit' to end the program. kuc ni\n"
     ]
    },
    {
     "name": "stdout",
     "output_type": "stream",
     "text": [
      "kuc ni\n"
     ]
    },
    {
     "name": "stdin",
     "output_type": "stream",
     "text": [
      "\n",
      "Tell me what's wrong with you, and I'll keep asking until you tell.\n",
      "Enter 'quit' to end the program. ni yr\n"
     ]
    },
    {
     "name": "stdout",
     "output_type": "stream",
     "text": [
      "ni yr\n"
     ]
    },
    {
     "name": "stdin",
     "output_type": "stream",
     "text": [
      "\n",
      "Tell me what's wrong with you, and I'll keep asking until you tell.\n",
      "Enter 'quit' to end the program. sahi me\n"
     ]
    },
    {
     "name": "stdout",
     "output_type": "stream",
     "text": [
      "sahi me\n"
     ]
    },
    {
     "name": "stdin",
     "output_type": "stream",
     "text": [
      "\n",
      "Tell me what's wrong with you, and I'll keep asking until you tell.\n",
      "Enter 'quit' to end the program. quit\n"
     ]
    },
    {
     "name": "stdout",
     "output_type": "stream",
     "text": [
      "quit\n"
     ]
    }
   ],
   "source": [
    "message = \"\"\n",
    "while message != \"quit\":\n",
    "    message = input(\"\\nTell me what's wrong with you, and I'll keep asking until you tell.\\nEnter 'quit' to end the program.\")\n",
    "    print(message)"
   ]
  },
  {
   "cell_type": "code",
   "execution_count": 18,
   "id": "b602e250-60fb-4859-8494-ca5e5ecf0237",
   "metadata": {},
   "outputs": [],
   "source": [
    "## Using flag and break"
   ]
  },
  {
   "cell_type": "code",
   "execution_count": 19,
   "id": "a10f6f5c-95e5-43f7-8b0c-e9f5dcd39c85",
   "metadata": {},
   "outputs": [
    {
     "name": "stdin",
     "output_type": "stream",
     "text": [
      "\n",
      "Please enter the name of a city you have visited.\n",
      "Enter 'quit' when you are finished. mathura\n"
     ]
    },
    {
     "name": "stdout",
     "output_type": "stream",
     "text": [
      "I'd love to go to Mathura again!\n"
     ]
    },
    {
     "name": "stdin",
     "output_type": "stream",
     "text": [
      "\n",
      "Please enter the name of a city you have visited.\n",
      "Enter 'quit' when you are finished. jammu\n"
     ]
    },
    {
     "name": "stdout",
     "output_type": "stream",
     "text": [
      "I'd love to go to Jammu again!\n"
     ]
    },
    {
     "name": "stdin",
     "output_type": "stream",
     "text": [
      "\n",
      "Please enter the name of a city you have visited.\n",
      "Enter 'quit' when you are finished. rishikesh\n"
     ]
    },
    {
     "name": "stdout",
     "output_type": "stream",
     "text": [
      "I'd love to go to Rishikesh again!\n"
     ]
    },
    {
     "name": "stdin",
     "output_type": "stream",
     "text": [
      "\n",
      "Please enter the name of a city you have visited.\n",
      "Enter 'quit' when you are finished. katra\n"
     ]
    },
    {
     "name": "stdout",
     "output_type": "stream",
     "text": [
      "I'd love to go to Katra again!\n"
     ]
    },
    {
     "name": "stdin",
     "output_type": "stream",
     "text": [
      "\n",
      "Please enter the name of a city you have visited.\n",
      "Enter 'quit' when you are finished. vrindavan\n"
     ]
    },
    {
     "name": "stdout",
     "output_type": "stream",
     "text": [
      "I'd love to go to Vrindavan again!\n"
     ]
    },
    {
     "name": "stdin",
     "output_type": "stream",
     "text": [
      "\n",
      "Please enter the name of a city you have visited.\n",
      "Enter 'quit' when you are finished. quit\n"
     ]
    }
   ],
   "source": [
    "prompt = \"\\nPlease enter the name of a city you have visited.\\nEnter 'quit' when you are finished.\"\n",
    "\n",
    "while True:\n",
    "    city = input(prompt)\n",
    "    if city == 'quit':\n",
    "        break\n",
    "    else:\n",
    "        print(f\"I'd love to go to {city.title()} again!\")"
   ]
  },
  {
   "cell_type": "code",
   "execution_count": 22,
   "id": "6304c9f2-c412-4d26-8de1-d3d8d4732d35",
   "metadata": {},
   "outputs": [
    {
     "name": "stdout",
     "output_type": "stream",
     "text": [
      "1\n",
      "3\n",
      "5\n",
      "7\n",
      "9\n"
     ]
    }
   ],
   "source": [
    "num = 0\n",
    "while num < 10:\n",
    "    num += 1\n",
    "    if num % 2 == 0:\n",
    "        continue\n",
    "    print(num)"
   ]
  },
  {
   "cell_type": "code",
   "execution_count": null,
   "id": "f878059c-c46b-4c37-8e06-77e0201b0dd3",
   "metadata": {},
   "outputs": [],
   "source": []
  },
  {
   "cell_type": "code",
   "execution_count": 24,
   "id": "e459aa1f-0a40-470b-8ff6-8009536a746c",
   "metadata": {},
   "outputs": [
    {
     "name": "stdin",
     "output_type": "stream",
     "text": [
      "\n",
      "Enter pizza topping you want to add:  extra cheese\n"
     ]
    },
    {
     "name": "stdout",
     "output_type": "stream",
     "text": [
      "extra cheese will be added to your pizza.\n"
     ]
    },
    {
     "name": "stdin",
     "output_type": "stream",
     "text": [
      "\n",
      "Enter pizza topping you want to add:  mushrooms\n"
     ]
    },
    {
     "name": "stdout",
     "output_type": "stream",
     "text": [
      "mushrooms will be added to your pizza.\n"
     ]
    },
    {
     "name": "stdin",
     "output_type": "stream",
     "text": [
      "\n",
      "Enter pizza topping you want to add:  veg mayo\n"
     ]
    },
    {
     "name": "stdout",
     "output_type": "stream",
     "text": [
      "veg mayo will be added to your pizza.\n"
     ]
    },
    {
     "name": "stdin",
     "output_type": "stream",
     "text": [
      "\n",
      "Enter pizza topping you want to add:  extra grilled\n"
     ]
    },
    {
     "name": "stdout",
     "output_type": "stream",
     "text": [
      "extra grilled will be added to your pizza.\n"
     ]
    },
    {
     "name": "stdin",
     "output_type": "stream",
     "text": [
      "\n",
      "Enter pizza topping you want to add:  quit\n"
     ]
    }
   ],
   "source": [
    "to_continue = True\n",
    "while to_continue:\n",
    "    topping = input(\"\\nEnter pizza topping you want to add: \")\n",
    "    if topping == 'quit':\n",
    "        to_continue = False\n",
    "    else:\n",
    "        print(f\"{topping} will be added to your pizza.\")\n",
    "    "
   ]
  },
  {
   "cell_type": "code",
   "execution_count": 1,
   "id": "1f4327ca-1042-40ba-9504-0e6a6bfe94b6",
   "metadata": {},
   "outputs": [
    {
     "name": "stdin",
     "output_type": "stream",
     "text": [
      "Enter age or Enter 0 to quit:  5\n"
     ]
    },
    {
     "name": "stdout",
     "output_type": "stream",
     "text": [
      "Ticket costs $10\n"
     ]
    },
    {
     "name": "stdin",
     "output_type": "stream",
     "text": [
      "Enter age or Enter 0 to quit:  8\n"
     ]
    },
    {
     "name": "stdout",
     "output_type": "stream",
     "text": [
      "Ticket costs $10\n"
     ]
    },
    {
     "name": "stdin",
     "output_type": "stream",
     "text": [
      "Enter age or Enter 0 to quit:  12\n"
     ]
    },
    {
     "name": "stdout",
     "output_type": "stream",
     "text": [
      "Ticket costs $15\n"
     ]
    },
    {
     "name": "stdin",
     "output_type": "stream",
     "text": [
      "Enter age or Enter 0 to quit:  15\n"
     ]
    },
    {
     "name": "stdout",
     "output_type": "stream",
     "text": [
      "Ticket costs $15\n"
     ]
    },
    {
     "name": "stdin",
     "output_type": "stream",
     "text": [
      "Enter age or Enter 0 to quit:  2\n"
     ]
    },
    {
     "name": "stdout",
     "output_type": "stream",
     "text": [
      "Ticket is FREE!\n"
     ]
    },
    {
     "name": "stdin",
     "output_type": "stream",
     "text": [
      "Enter age or Enter 0 to quit:  0\n"
     ]
    }
   ],
   "source": [
    "to_continue = True\n",
    "while to_continue:\n",
    "    age = int(input(\"Enter age or Enter 0 to quit: \"))\n",
    "    if age > 0 and age < 3:\n",
    "        print(\"Ticket is FREE!\")\n",
    "    elif age >= 3 and age < 12:\n",
    "        print(\"Ticket costs $10\")\n",
    "    elif age >= 12:\n",
    "        print(\"Ticket costs $15\")\n",
    "    else:\n",
    "        to_continue = False"
   ]
  },
  {
   "cell_type": "code",
   "execution_count": 2,
   "id": "7a4a5523-475f-42b4-87fd-2478ca56ea7f",
   "metadata": {},
   "outputs": [],
   "source": [
    "## Using while loop with Lists and Dictionaries"
   ]
  },
  {
   "cell_type": "code",
   "execution_count": 3,
   "id": "dc3d1bbf-7f62-447d-95ac-14d8504be64d",
   "metadata": {},
   "outputs": [],
   "source": [
    "# Moving items from one list to another"
   ]
  },
  {
   "cell_type": "code",
   "execution_count": 5,
   "id": "6bd0b8ac-6ea3-4b97-b406-787ccdff43df",
   "metadata": {},
   "outputs": [
    {
     "name": "stdout",
     "output_type": "stream",
     "text": [
      "Verifying user: Para...\n",
      "Verifying user: Bara...\n",
      "Verifying user: Lara...\n",
      "Verifying user: Dara...\n",
      "Verifying user: Sara...\n",
      "\n",
      "The following users have been verified successfully\n",
      "Para\n",
      "Bara\n",
      "Lara\n",
      "Dara\n",
      "Sara\n"
     ]
    }
   ],
   "source": [
    "unconfirmed_users = ['sara', 'dara', 'lara', 'bara', 'para']\n",
    "confirmed_users = []\n",
    "while unconfirmed_users:\n",
    "    current_user = unconfirmed_users.pop()\n",
    "    print(f\"Verifying user: {current_user.title()}...\")\n",
    "    \n",
    "    confirmed_users.append(current_user)\n",
    "\n",
    "print(\"\\nThe following users have been verified successfully\")\n",
    "for user in confirmed_users:\n",
    "    print(user.title())"
   ]
  },
  {
   "cell_type": "code",
   "execution_count": 6,
   "id": "a7303c6a-7dc5-41b1-bb6e-c950d6739fd6",
   "metadata": {},
   "outputs": [
    {
     "data": {
      "text/plain": [
       "['apple',\n",
       " 'guava',\n",
       " 'kiwi',\n",
       " 'mango',\n",
       " 'pineapple',\n",
       " 'guava',\n",
       " 'kiwi',\n",
       " 'mango',\n",
       " 'guava',\n",
       " 'apple']"
      ]
     },
     "execution_count": 6,
     "metadata": {},
     "output_type": "execute_result"
    }
   ],
   "source": [
    "# Remove all instances of specific values from a list\n",
    "fruits = ['apple', 'guava', 'kiwi', 'mango', 'pineapple', 'guava', 'kiwi', 'mango', 'guava', 'apple']\n",
    "fruits"
   ]
  },
  {
   "cell_type": "code",
   "execution_count": 16,
   "id": "b8d1f8eb-5cf0-4989-900a-94378e68b9b5",
   "metadata": {},
   "outputs": [],
   "source": [
    "while 'kiwi' in fruits:\n",
    "    fruits.remove('kiwi')"
   ]
  },
  {
   "cell_type": "code",
   "execution_count": 17,
   "id": "15bb11e5-1f62-4c33-95c6-e8ecc2cf41ed",
   "metadata": {},
   "outputs": [
    {
     "data": {
      "text/plain": [
       "['guava', 'mango', 'pineapple', 'guava', 'mango', 'guava']"
      ]
     },
     "execution_count": 17,
     "metadata": {},
     "output_type": "execute_result"
    }
   ],
   "source": [
    "fruits"
   ]
  },
  {
   "cell_type": "code",
   "execution_count": 21,
   "id": "266dabbb-36cf-49ca-966c-38b5864ecc4e",
   "metadata": {},
   "outputs": [
    {
     "name": "stdin",
     "output_type": "stream",
     "text": [
      "Enter your name:  dheeraj\n",
      "Kaunsa tirth sthal jana chahoge?  rishikesh\n",
      "Want to let next person take up the poll?(y/n)  y\n",
      "Enter your name:  bunny\n",
      "Kaunsa tirth sthal jana chahoge?  mathura\n",
      "Want to let next person take up the poll?(y/n)  n\n"
     ]
    },
    {
     "name": "stdout",
     "output_type": "stream",
     "text": [
      "\n",
      "The results of the poll are below: \n",
      "Dheeraj would like to visit Rishikesh.\n",
      "Bunny would like to visit Mathura.\n"
     ]
    }
   ],
   "source": [
    "poll_responses = {}\n",
    "\n",
    "polling_active = True\n",
    "\n",
    "while polling_active:\n",
    "    name = input(\"\\nEnter your name: \")\n",
    "    response = input(\"Kaunsa tirth sthal jana chahoge? \")\n",
    "    poll_responses[name] = response\n",
    "    next = input(\"Want to let next person take up the poll?(y/n) \")\n",
    "    if next == 'n':\n",
    "        polling_active = False\n",
    "\n",
    "print(\"\\nThe results of the poll are below: \")\n",
    "for name,response in poll_responses.items():\n",
    "    print(f\"{name.title()} would like to visit {response.title()}.\")"
   ]
  },
  {
   "cell_type": "code",
   "execution_count": 26,
   "id": "4847d1b9-979d-4dad-9a46-666b824f6c68",
   "metadata": {},
   "outputs": [
    {
     "name": "stdout",
     "output_type": "stream",
     "text": [
      "Sorry, we ran out of pastrami sandwiches.\n",
      "Your order for Veg Onion Cheese sandwich is completed.\n",
      "Your order for Veg Onion sandwich is completed.\n",
      "Your order for Veg Cheese sandwich is completed.\n",
      "Your order for Veg Mayo sandwich is completed.\n",
      "Your order for Veg sandwich is completed.\n",
      "\n",
      "The following sandwich orders have been prepared.\n",
      "Veg Onion Cheese sandwich\n",
      "Veg Onion sandwich\n",
      "Veg Cheese sandwich\n",
      "Veg Mayo sandwich\n",
      "Veg sandwich\n"
     ]
    }
   ],
   "source": [
    "sandwich_orders = ['pastrami', 'veg', 'veg mayo', 'pastrami', 'veg cheese', 'veg onion', 'veg onion cheese', 'pastrami']\n",
    "finished_orders = []\n",
    "\n",
    "print(\"Sorry, we ran out of pastrami sandwiches.\")\n",
    "while 'pastrami' in sandwich_orders:\n",
    "    sandwich_orders.remove('pastrami')\n",
    "    \n",
    "while sandwich_orders:\n",
    "    current_sandwich = sandwich_orders.pop()\n",
    "    finished_orders.append(current_sandwich)\n",
    "    print(f\"Your order for {current_sandwich.title()} sandwich is completed.\")\n",
    "\n",
    "print(\"\\nThe following sandwich orders have been prepared.\")\n",
    "for sandwich in finished_orders:\n",
    "    print(f\"{sandwich.title()} sandwich\")"
   ]
  },
  {
   "cell_type": "code",
   "execution_count": 27,
   "id": "fc320410-20a6-4751-a4b7-e7f56d9d8b1a",
   "metadata": {},
   "outputs": [
    {
     "name": "stdin",
     "output_type": "stream",
     "text": [
      "\n",
      "What's your name?  kumar\n",
      "Where would you like to spend your vacation?  rishikesh\n",
      "Do you want the polls to be active?(y/n)  y\n",
      "\n",
      "What's your name?  sara\n",
      "Where would you like to spend your vacation?  leh\n",
      "Do you want the polls to be active?(y/n)  y\n",
      "\n",
      "What's your name?  anne\n",
      "Where would you like to spend your vacation?  banaras\n",
      "Do you want the polls to be active?(y/n)  n\n"
     ]
    },
    {
     "name": "stdout",
     "output_type": "stream",
     "text": [
      "Kumar would like to spend their off-time in Rishikesh.\n",
      "Sara would like to spend their off-time in Leh.\n",
      "Anne would like to spend their off-time in Banaras.\n"
     ]
    }
   ],
   "source": [
    "vacations_poll = {}\n",
    "\n",
    "poll_active = True\n",
    "\n",
    "while poll_active:\n",
    "    name = input(\"\\nWhat's your name? \")\n",
    "    location = input(\"Where would you like to spend your vacation? \")\n",
    "    vacations_poll[name] = location\n",
    "    next = input(\"Do you want the polls to be active?(y/n) \")\n",
    "    if next == 'n':\n",
    "        poll_active = False\n",
    "\n",
    "print(\"\\nPoll results:\")\n",
    "for poll in vacations_poll.items():\n",
    "    print(f\"{poll[0].title()} would like to spend their off-time in {poll[1].title()}.\")"
   ]
  },
  {
   "cell_type": "code",
   "execution_count": null,
   "id": "002d3efe-332a-470b-b2f7-96ead9ddc789",
   "metadata": {},
   "outputs": [],
   "source": []
  }
 ],
 "metadata": {
  "kernelspec": {
   "display_name": "Python 3 (ipykernel)",
   "language": "python",
   "name": "python3"
  },
  "language_info": {
   "codemirror_mode": {
    "name": "ipython",
    "version": 3
   },
   "file_extension": ".py",
   "mimetype": "text/x-python",
   "name": "python",
   "nbconvert_exporter": "python",
   "pygments_lexer": "ipython3",
   "version": "3.11.5"
  }
 },
 "nbformat": 4,
 "nbformat_minor": 5
}
