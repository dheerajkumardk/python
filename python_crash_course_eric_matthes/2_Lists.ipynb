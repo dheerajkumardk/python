{
 "cells": [
  {
   "cell_type": "code",
   "execution_count": 1,
   "id": "d8571cb8-e954-4e78-af02-4e4d4daff653",
   "metadata": {},
   "outputs": [],
   "source": [
    "# Lists"
   ]
  },
  {
   "cell_type": "code",
   "execution_count": 2,
   "id": "55b4479e-5f30-48e4-b248-40a84df7d8ef",
   "metadata": {},
   "outputs": [
    {
     "name": "stdout",
     "output_type": "stream",
     "text": [
      "['mango', 'orange', 'kiwi', 'lemon']\n"
     ]
    }
   ],
   "source": [
    "fruits = ['mango', 'orange', 'kiwi', 'lemon']\n",
    "print(fruits)"
   ]
  },
  {
   "cell_type": "code",
   "execution_count": 3,
   "id": "951d7e7c-8ea0-404f-aa53-9cf8072ee0db",
   "metadata": {},
   "outputs": [],
   "source": [
    "# Accessing Elements in a list"
   ]
  },
  {
   "cell_type": "code",
   "execution_count": 16,
   "id": "353be4df-b372-4b99-bf56-6537a04c36be",
   "metadata": {},
   "outputs": [
    {
     "name": "stdout",
     "output_type": "stream",
     "text": [
      "lemon\n",
      "Mango\n",
      "lemon\n",
      "kiwi\n"
     ]
    }
   ],
   "source": [
    "## Indexes\n",
    "# 0, 1, 2, 3, ...\n",
    "# ....  -3 , -2, -1(last)\n",
    "print(fruits[3])\n",
    "print(fruits[0].title())\n",
    "print(fruits[-1]) # last\n",
    "print(fruits[-2])"
   ]
  },
  {
   "cell_type": "code",
   "execution_count": 19,
   "id": "58eee701-3ced-4cf1-aabf-dc360cff9bf9",
   "metadata": {},
   "outputs": [
    {
     "name": "stdout",
     "output_type": "stream",
     "text": [
      "My favourite fruit is the Mango.\n"
     ]
    }
   ],
   "source": [
    "msg = f\"My favourite fruit is the {fruits[0].title()}.\"\n",
    "print(msg)"
   ]
  },
  {
   "cell_type": "code",
   "execution_count": 23,
   "id": "4f6f0bad-6540-49d1-ae4c-4829faf3e285",
   "metadata": {},
   "outputs": [
    {
     "name": "stdout",
     "output_type": "stream",
     "text": [
      "Hello, Jack\n",
      "Hello, Doe\n",
      "Hello, Sara\n"
     ]
    }
   ],
   "source": [
    "names = ['Jack', 'Doe', 'Sara']\n",
    "print(f\"Hello, {names[0]}\")\n",
    "print(f\"Hello, {names[1]}\")\n",
    "print(f\"Hello, {names[2]}\")"
   ]
  },
  {
   "cell_type": "code",
   "execution_count": 26,
   "id": "4766c94c-0724-43e7-886f-2e1129231f84",
   "metadata": {},
   "outputs": [
    {
     "name": "stdout",
     "output_type": "stream",
     "text": [
      "I will be owning a bullet\n",
      "I will be owning a rolls royce\n",
      "I will be owning a range rover\n",
      "I will be owning a jaguar\n"
     ]
    }
   ],
   "source": [
    "vehicles = ['bullet', 'rolls royce', 'range rover', 'jaguar']\n",
    "print(f\"I will be owning a {vehicles[0]}\")\n",
    "print(f\"I will be owning a {vehicles[1]}\")\n",
    "print(f\"I will be owning a {vehicles[2]}\")\n",
    "print(f\"I will be owning a {vehicles[3]}\")"
   ]
  },
  {
   "cell_type": "code",
   "execution_count": 27,
   "id": "3f8a0937-112a-4b1e-a5f0-57b3cc7c6ff5",
   "metadata": {},
   "outputs": [],
   "source": [
    "## Changing, Adding and Removing Elements"
   ]
  },
  {
   "cell_type": "code",
   "execution_count": 28,
   "id": "c351bd38-0171-47eb-980b-74bcf86b1932",
   "metadata": {},
   "outputs": [
    {
     "name": "stdout",
     "output_type": "stream",
     "text": [
      "['hero', 'honda', 'yamaha', 'royal enfield']\n"
     ]
    }
   ],
   "source": [
    "motorcycles = ['hero', 'honda', 'yamaha', 'royal enfield']\n",
    "print(motorcycles)"
   ]
  },
  {
   "cell_type": "code",
   "execution_count": 29,
   "id": "cc74c293-2c2e-42eb-bb86-dcb48ff8ce19",
   "metadata": {},
   "outputs": [],
   "source": [
    "motorcycles[1] = 'tvs'"
   ]
  },
  {
   "cell_type": "code",
   "execution_count": 47,
   "id": "8395baa7-3e1c-43f3-9249-9d5953e4d8c7",
   "metadata": {},
   "outputs": [
    {
     "data": {
      "text/plain": [
       "['hero', 'tvs', 'yamaha', 'royal enfield']"
      ]
     },
     "execution_count": 47,
     "metadata": {},
     "output_type": "execute_result"
    }
   ],
   "source": [
    "motorcycles"
   ]
  },
  {
   "cell_type": "code",
   "execution_count": 33,
   "id": "463a4af8-9e91-49e8-a026-98859bebcc60",
   "metadata": {},
   "outputs": [],
   "source": [
    "# Add element at the end of the list\n",
    "motorcycles.append('bajaj')"
   ]
  },
  {
   "cell_type": "code",
   "execution_count": 36,
   "id": "85f06e1c-a33a-437b-8831-6899e127fa41",
   "metadata": {},
   "outputs": [],
   "source": [
    "# Add element at given position\n",
    "motorcycles.insert(0, 'ducati')"
   ]
  },
  {
   "cell_type": "code",
   "execution_count": 38,
   "id": "14490cbe-e214-4e65-ad6e-b6345a1b5ac9",
   "metadata": {},
   "outputs": [],
   "source": [
    "# Removing Elements\n",
    "del motorcycles[0]"
   ]
  },
  {
   "cell_type": "code",
   "execution_count": 42,
   "id": "b51229b7-f400-47dc-b177-fb7b0c989130",
   "metadata": {},
   "outputs": [
    {
     "data": {
      "text/plain": [
       "'ducati'"
      ]
     },
     "execution_count": 42,
     "metadata": {},
     "output_type": "execute_result"
    }
   ],
   "source": [
    "motorcycles.pop(0)"
   ]
  },
  {
   "cell_type": "code",
   "execution_count": 44,
   "id": "91a94e5e-d8ee-46cc-b681-ccf5ac917ce5",
   "metadata": {},
   "outputs": [],
   "source": [
    "# Remove an item by value"
   ]
  },
  {
   "cell_type": "code",
   "execution_count": 46,
   "id": "c3e85cbb-8294-445f-8715-6461ffbbfc4e",
   "metadata": {},
   "outputs": [],
   "source": [
    "motorcycles.remove('bajaj')"
   ]
  },
  {
   "cell_type": "code",
   "execution_count": 48,
   "id": "55a94ec5-031c-4f96-9e92-da3c9f6bf41a",
   "metadata": {},
   "outputs": [],
   "source": [
    "motorcycles.remove('tvs')"
   ]
  },
  {
   "cell_type": "code",
   "execution_count": 49,
   "id": "ae489173-087e-46ad-a093-469868d7d01f",
   "metadata": {},
   "outputs": [
    {
     "data": {
      "text/plain": [
       "['hero', 'yamaha', 'royal enfield']"
      ]
     },
     "execution_count": 49,
     "metadata": {},
     "output_type": "execute_result"
    }
   ],
   "source": [
    "motorcycles"
   ]
  },
  {
   "cell_type": "code",
   "execution_count": 50,
   "id": "43647822-78a6-4f88-865f-4e6150ca59bf",
   "metadata": {},
   "outputs": [],
   "source": [
    "## Try It - Guests"
   ]
  },
  {
   "cell_type": "code",
   "execution_count": 71,
   "id": "283264e3-3661-4189-8680-2f0f28274610",
   "metadata": {},
   "outputs": [
    {
     "name": "stdout",
     "output_type": "stream",
     "text": [
      "Hi Alpha, you're invited to the party.\n",
      "Hi Beta, you're invited to the party.\n",
      "Hi Gamma, you're invited to the party.\n",
      "Gamma won't be able to attend the function.\n",
      "Hi Alpha, you're invited to the party.\n",
      "Hi Beta, you're invited to the party.\n",
      "Hi Delta, you're invited to the party.\n",
      "Hi Cosine, you're invited to the party.\n",
      "Hi Alpha, you're invited to the party.\n",
      "Hi Beta, you're invited to the party.\n",
      "Hi Tangent, you're invited to the party.\n",
      "Hi Delta, you're invited to the party.\n",
      "Hi Cosec, you're invited to the party.\n",
      "Sorry Cosec, Jagah ni hai to invite ni kr paunga\n",
      "Sorry Delta, Jagah ni hai to invite ni kr paunga\n",
      "Sorry Tangent, Jagah ni hai to invite ni kr paunga\n",
      "Sorry Beta, Jagah ni hai to invite ni kr paunga\n",
      "Cosine and Alpha, You're still invited.\n"
     ]
    }
   ],
   "source": [
    "guests = ['Alpha', 'Beta', 'Gamma']\n",
    "print(f\"Hi {guests[0]}, you're invited to the party.\")\n",
    "print(f\"Hi {guests[1]}, you're invited to the party.\")\n",
    "print(f\"Hi {guests[2]}, you're invited to the party.\")\n",
    "\n",
    "cannot_attend = 'Gamma'\n",
    "print(f\"{cannot_attend} won't be able to attend the function.\")\n",
    "\n",
    "guests[2] = 'Delta'\n",
    "print(f\"Hi {guests[0]}, you're invited to the party.\")\n",
    "print(f\"Hi {guests[1]}, you're invited to the party.\")\n",
    "print(f\"Hi {guests[2]}, you're invited to the party.\")\n",
    "\n",
    "guests.insert(0, 'Cosine')\n",
    "guests.insert(3, 'Tangent')\n",
    "guests.append('Cosec')\n",
    "print(f\"Hi {guests[0]}, you're invited to the party.\")\n",
    "print(f\"Hi {guests[1]}, you're invited to the party.\")\n",
    "print(f\"Hi {guests[2]}, you're invited to the party.\")\n",
    "print(f\"Hi {guests[3]}, you're invited to the party.\")\n",
    "print(f\"Hi {guests[4]}, you're invited to the party.\")\n",
    "print(f\"Hi {guests[5]}, you're invited to the party.\")\n",
    "\n",
    "remove = guests.pop()\n",
    "print(f\"Sorry {remove}, Jagah ni hai to invite ni kr paunga\")\n",
    "remove = guests.pop()\n",
    "print(f\"Sorry {remove}, Jagah ni hai to invite ni kr paunga\")\n",
    "remove = guests.pop()\n",
    "print(f\"Sorry {remove}, Jagah ni hai to invite ni kr paunga\")\n",
    "remove = guests.pop()\n",
    "print(f\"Sorry {remove}, Jagah ni hai to invite ni kr paunga\")\n",
    "\n",
    "print(f\"{guests[0]} and {guests[1]}, You're still invited.\")"
   ]
  },
  {
   "cell_type": "code",
   "execution_count": 70,
   "id": "733a1243-1979-47ed-9b64-014f9ac2ed95",
   "metadata": {},
   "outputs": [
    {
     "data": {
      "text/plain": [
       "['Cosine', 'Alpha']"
      ]
     },
     "execution_count": 70,
     "metadata": {},
     "output_type": "execute_result"
    }
   ],
   "source": [
    "guests"
   ]
  },
  {
   "cell_type": "code",
   "execution_count": 72,
   "id": "32f5a005-0096-4a8f-89e8-d45f29c1987f",
   "metadata": {},
   "outputs": [],
   "source": [
    "## Organizing a List"
   ]
  },
  {
   "cell_type": "code",
   "execution_count": 80,
   "id": "4bbca583-f8cf-4ecf-a70c-51e8aefeea11",
   "metadata": {},
   "outputs": [
    {
     "data": {
      "text/plain": [
       "['mango', 'lemon', 'kiwi', 'apple', 'grapes']"
      ]
     },
     "execution_count": 80,
     "metadata": {},
     "output_type": "execute_result"
    }
   ],
   "source": [
    "fruits = ['mango', 'lemon', 'kiwi', 'apple', 'grapes']\n",
    "# fruits.sort(reverse=False)\n",
    "fruits"
   ]
  },
  {
   "cell_type": "code",
   "execution_count": 84,
   "id": "3d1eddcc-4e8b-4bf2-8099-7ecea87d1ed0",
   "metadata": {},
   "outputs": [
    {
     "name": "stdout",
     "output_type": "stream",
     "text": [
      "['apple', 'grapes', 'kiwi', 'lemon', 'mango']\n"
     ]
    },
    {
     "data": {
      "text/plain": [
       "['mango', 'lemon', 'kiwi', 'apple', 'grapes']"
      ]
     },
     "execution_count": 84,
     "metadata": {},
     "output_type": "execute_result"
    }
   ],
   "source": [
    "## Sorted - Actual variable me koi chang\n",
    "print(sorted(fruits))\n",
    "fruits"
   ]
  },
  {
   "cell_type": "code",
   "execution_count": null,
   "id": "a520d4a6-230e-4f6e-8f0c-0b2c8ede7974",
   "metadata": {},
   "outputs": [],
   "source": []
  }
 ],
 "metadata": {
  "kernelspec": {
   "display_name": "Python 3 (ipykernel)",
   "language": "python",
   "name": "python3"
  },
  "language_info": {
   "codemirror_mode": {
    "name": "ipython",
    "version": 3
   },
   "file_extension": ".py",
   "mimetype": "text/x-python",
   "name": "python",
   "nbconvert_exporter": "python",
   "pygments_lexer": "ipython3",
   "version": "3.11.5"
  }
 },
 "nbformat": 4,
 "nbformat_minor": 5
}
