{
 "cells": [
  {
   "cell_type": "code",
   "execution_count": 1,
   "id": "00396057-988e-478c-b571-8d6020e4c674",
   "metadata": {},
   "outputs": [],
   "source": [
    "## Functions"
   ]
  },
  {
   "cell_type": "code",
   "execution_count": 2,
   "id": "4592800b-236b-4bb5-9a17-26a224775498",
   "metadata": {},
   "outputs": [
    {
     "name": "stdout",
     "output_type": "stream",
     "text": [
      "Namaste!\n"
     ]
    }
   ],
   "source": [
    "def greet_user():\n",
    "    print(\"Namaste!\")\n",
    "\n",
    "greet_user()"
   ]
  },
  {
   "cell_type": "code",
   "execution_count": 3,
   "id": "0b5eee35-dc8e-48e5-9f67-cde46818b2a2",
   "metadata": {},
   "outputs": [
    {
     "name": "stdout",
     "output_type": "stream",
     "text": [
      "Namaskaar, Sarah!\n"
     ]
    }
   ],
   "source": [
    "def greet_user(name):\n",
    "    print(f\"Namaskaar, {name.title()}!\")\n",
    "\n",
    "greet_user(\"Sarah\")"
   ]
  },
  {
   "cell_type": "code",
   "execution_count": 4,
   "id": "848ae2ac-9fe3-49ae-a324-e57a1af7f55a",
   "metadata": {},
   "outputs": [
    {
     "name": "stdout",
     "output_type": "stream",
     "text": [
      "We'll learn about functions in this chapter.\n"
     ]
    }
   ],
   "source": [
    "def display_message():\n",
    "    print(\"We'll learn about functions in this chapter.\")\n",
    "\n",
    "display_message()"
   ]
  },
  {
   "cell_type": "code",
   "execution_count": 5,
   "id": "79c03cc6-b020-4d52-ba19-d6a8f458dd56",
   "metadata": {},
   "outputs": [
    {
     "name": "stdout",
     "output_type": "stream",
     "text": [
      "One of my favourite books is Shree Ramcharitra Manas.\n"
     ]
    }
   ],
   "source": [
    "def favourite_book(title):\n",
    "    print(f\"One of my favourite books is {title.title()}.\")\n",
    "\n",
    "favourite_book('Shree Ramcharitra Manas')"
   ]
  },
  {
   "cell_type": "code",
   "execution_count": 6,
   "id": "28950be8-e845-4e59-98b1-c325ae4927af",
   "metadata": {},
   "outputs": [
    {
     "name": "stdout",
     "output_type": "stream",
     "text": [
      "\n",
      "I have got one Kachua last week.\n",
      "My family has kept Narayana as its name.\n",
      "\n",
      "I have got one Tiger last week.\n",
      "My family has kept Shera as its name.\n"
     ]
    }
   ],
   "source": [
    "def describe_pet(animal_type, pet_name='Lucy'):\n",
    "    print(f\"\\nI have got one {animal_type.title()} last week.\")\n",
    "    print(f\"My family has kept {pet_name.title()} as its name.\")\n",
    "\n",
    "describe_pet('kachua', 'narayana')\n",
    "describe_pet('tiger', 'shera')"
   ]
  },
  {
   "cell_type": "code",
   "execution_count": 7,
   "id": "3949f3e0-48d2-443e-81df-9db05ebcdaf5",
   "metadata": {},
   "outputs": [
    {
     "name": "stdout",
     "output_type": "stream",
     "text": [
      "\n",
      "I have got one Cat last week.\n",
      "My family has kept Tom as its name.\n"
     ]
    }
   ],
   "source": [
    "describe_pet('cat', 'tom')"
   ]
  },
  {
   "cell_type": "code",
   "execution_count": 8,
   "id": "3e35a70c-3657-4ee0-8372-188c4e5db238",
   "metadata": {},
   "outputs": [
    {
     "name": "stdout",
     "output_type": "stream",
     "text": [
      "\n",
      "I have got one Tom last week.\n",
      "My family has kept Cat as its name.\n"
     ]
    }
   ],
   "source": [
    "describe_pet('tom', 'cat')"
   ]
  },
  {
   "cell_type": "code",
   "execution_count": 9,
   "id": "5616a91b-2732-409c-abe5-ff94fd2cce81",
   "metadata": {},
   "outputs": [
    {
     "name": "stdout",
     "output_type": "stream",
     "text": [
      "\n",
      "I have got one Cat last week.\n",
      "My family has kept Tom as its name.\n"
     ]
    }
   ],
   "source": [
    "describe_pet(pet_name='tom', animal_type='cat')"
   ]
  },
  {
   "cell_type": "code",
   "execution_count": 10,
   "id": "397e733e-5755-43ae-af18-eba6bc845cf5",
   "metadata": {},
   "outputs": [
    {
     "name": "stdout",
     "output_type": "stream",
     "text": [
      "\n",
      "I have got one Cat last week.\n",
      "My family has kept Lucy as its name.\n"
     ]
    }
   ],
   "source": [
    "describe_pet('cat')"
   ]
  },
  {
   "cell_type": "code",
   "execution_count": 11,
   "id": "77163628-8086-4fe4-bfb3-ff90d36a9c18",
   "metadata": {},
   "outputs": [],
   "source": [
    "## Exercises"
   ]
  },
  {
   "cell_type": "code",
   "execution_count": 12,
   "id": "47b6a487-1b75-4bee-b42b-8df911f864c1",
   "metadata": {},
   "outputs": [
    {
     "name": "stdout",
     "output_type": "stream",
     "text": [
      "We'll print a t-shirt of size L with 'DK BOSS' written on it.\n",
      "We'll print a t-shirt of size M with 'Roar Like TIGER' written on it.\n",
      "We'll print a t-shirt of size S with 'Ding Ding!' written on it.\n",
      "We'll print a t-shirt of size L with 'Ram Ram!' written on it.\n"
     ]
    }
   ],
   "source": [
    "## t-shirt\n",
    "def make_shirt(size, text):\n",
    "    print(f\"We'll print a t-shirt of size {size} with '{text}' written on it.\")\n",
    "\n",
    "make_shirt('L', 'DK BOSS')\n",
    "make_shirt('M', 'Roar Like TIGER')\n",
    "make_shirt(size = 'S', text = 'Ding Ding!')\n",
    "make_shirt(text = 'Ram Ram!', size = 'L')"
   ]
  },
  {
   "cell_type": "code",
   "execution_count": 13,
   "id": "74d45061-5c55-49b0-a0ed-1935cd5d2059",
   "metadata": {},
   "outputs": [
    {
     "name": "stdout",
     "output_type": "stream",
     "text": [
      "A shirt of size L with 'I love Bharat' is being printed.\n",
      "A shirt of size M with 'I love Bharat' is being printed.\n",
      "A shirt of size L with 'Bharat Meri Jaan' is being printed.\n",
      "A shirt of size S with 'I love Bharat' is being printed.\n",
      "A shirt of size S with 'Hindustaan!!!' is being printed.\n"
     ]
    }
   ],
   "source": [
    "def make_shirt(size = 'L', text = 'I love Bharat'):\n",
    "    print(f\"A shirt of size {size.title()} with '{text}' is being printed.\")\n",
    "\n",
    "make_shirt()\n",
    "make_shirt(size = 'M')\n",
    "make_shirt(text = 'Bharat Meri Jaan')\n",
    "make_shirt(size = 's')\n",
    "make_shirt(size = 'S', text = 'Hindustaan!!!')"
   ]
  },
  {
   "cell_type": "code",
   "execution_count": 14,
   "id": "5708fc5a-3b70-46fc-9c4d-a924603068d1",
   "metadata": {},
   "outputs": [
    {
     "name": "stdout",
     "output_type": "stream",
     "text": [
      "Mathura is in Bharat.\n",
      "Kashi is in Bharat.\n",
      "Leh is in Bharat.\n",
      "Kathmandu is in Nepal.\n"
     ]
    }
   ],
   "source": [
    "def describe_city(city, country = 'Bharat'):\n",
    "    print(f\"{city.title()} is in {country.title()}.\")\n",
    "\n",
    "describe_city('Mathura')\n",
    "describe_city('Kashi')\n",
    "describe_city(city = 'Leh')\n",
    "describe_city(city = 'Kathmandu', country = 'Nepal')"
   ]
  },
  {
   "cell_type": "code",
   "execution_count": 15,
   "id": "b1f650c3-f239-4ab6-9575-b6e0c5d583d5",
   "metadata": {},
   "outputs": [],
   "source": [
    "## Return Values"
   ]
  },
  {
   "cell_type": "code",
   "execution_count": 16,
   "id": "0e437d75-33a4-4e75-b023-52ae38b84c3e",
   "metadata": {},
   "outputs": [
    {
     "name": "stdout",
     "output_type": "stream",
     "text": [
      "Dheeraj Kumar Yaduwanshi\n"
     ]
    }
   ],
   "source": [
    "def get_formatted_name(first_name, middle_name, last_name):\n",
    "    full_name = f\"{first_name} {middle_name} {last_name}\"\n",
    "    return full_name.title()\n",
    "\n",
    "name = get_formatted_name('dheeraj', 'kumar', 'yaduwanshi')\n",
    "print(name)"
   ]
  },
  {
   "cell_type": "code",
   "execution_count": 17,
   "id": "4bde9ee2-ca4e-4d63-81e8-da03d5aeb73e",
   "metadata": {},
   "outputs": [
    {
     "name": "stdout",
     "output_type": "stream",
     "text": [
      "dheeraj kumar yaduwanshi\n",
      "dheeraj kumar\n"
     ]
    }
   ],
   "source": [
    "## Making an argument optional\n",
    "def get_formatted_name(first, last, middle=''):\n",
    "    if middle:\n",
    "        full_name = f\"{first} {middle} {last}\"\n",
    "    else:\n",
    "        full_name = f\"{first} {last}\"\n",
    "    return full_name\n",
    "\n",
    "name = get_formatted_name('dheeraj', 'yaduwanshi', 'kumar')\n",
    "print(name)\n",
    "name_2 = get_formatted_name('dheeraj', 'kumar')\n",
    "print(name_2)"
   ]
  },
  {
   "cell_type": "code",
   "execution_count": 18,
   "id": "6781116d-5908-4694-b26c-ac5160bf0135",
   "metadata": {},
   "outputs": [
    {
     "name": "stdout",
     "output_type": "stream",
     "text": [
      "{'first': 'DK', 'last': 'bhai'}\n",
      "{'first': 'Monty', 'last': 'bhaiya', 'age': 24}\n"
     ]
    }
   ],
   "source": [
    "# Returning a dictionary\n",
    "def build_person(first_name, last_name, age = None):\n",
    "    person = {'first': first_name, 'last': last_name}\n",
    "    if age:\n",
    "        person['age'] = age\n",
    "    return person\n",
    "\n",
    "person_0 = build_person('DK', 'bhai')\n",
    "person_1 = build_person('Monty', 'bhaiya', 24)\n",
    "print(person_0)\n",
    "print(person_1)"
   ]
  },
  {
   "cell_type": "code",
   "execution_count": 19,
   "id": "172acd84-872e-4e11-ae9d-e3c75b58809e",
   "metadata": {},
   "outputs": [
    {
     "name": "stdin",
     "output_type": "stream",
     "text": [
      "Enter first name:  dheeraj\n",
      "Enter last name:  kumar\n"
     ]
    },
    {
     "name": "stdout",
     "output_type": "stream",
     "text": [
      "\n",
      "Hello, Dheeraj Kumar\n"
     ]
    },
    {
     "name": "stdin",
     "output_type": "stream",
     "text": [
      "Enter first name:  ric\n",
      "Enter last name:  will\n"
     ]
    },
    {
     "name": "stdout",
     "output_type": "stream",
     "text": [
      "\n",
      "Hello, Ric Will\n"
     ]
    },
    {
     "name": "stdin",
     "output_type": "stream",
     "text": [
      "Enter first name:  sara\n",
      "Enter last name:  jones\n"
     ]
    },
    {
     "name": "stdout",
     "output_type": "stream",
     "text": [
      "\n",
      "Hello, Sara Jones\n"
     ]
    }
   ],
   "source": [
    "# Using a Function with a while loop\n",
    "def get_formatted_name(first, last):\n",
    "    full_name = f\"{first} {last}\"\n",
    "    return full_name.title()\n",
    "\n",
    "i = 1\n",
    "while i < 4:\n",
    "    first = input(\"\\nEnter first name: \")\n",
    "    last = input(\"Enter last name: \")\n",
    "    name = get_formatted_name(first, last)\n",
    "    print(f\"Hello, {name}\")\n",
    "    i += 1"
   ]
  },
  {
   "cell_type": "code",
   "execution_count": 24,
   "id": "8a0e92e4-aa50-441b-b68c-54560a5fb58e",
   "metadata": {},
   "outputs": [
    {
     "name": "stdout",
     "output_type": "stream",
     "text": [
      "\"Indore, India\"\n",
      "\"Ladakh, Bharat\"\n",
      "\"Vrindavan, Bharat\"\n"
     ]
    }
   ],
   "source": [
    "def city_country(city, country):\n",
    "    text = f'\"{city.title()}, {country.title()}\"'\n",
    "    return text\n",
    "\n",
    "text_0 = city_country('Indore', 'India')\n",
    "text_1 = city_country('Ladakh', 'Bharat')\n",
    "text_2 = city_country('Vrindavan', 'Bharat')\n",
    "print(text_0)\n",
    "print(text_1)\n",
    "print(text_2)"
   ]
  },
  {
   "cell_type": "code",
   "execution_count": 26,
   "id": "1c147f86-c77f-44e3-99b7-d11ed6151359",
   "metadata": {},
   "outputs": [
    {
     "name": "stdout",
     "output_type": "stream",
     "text": [
      "{'artist': 'KK', 'album': 'Tribute to KK'}\n",
      "{'artist': 'Gulshan Kumar', 'album': 'Bhakti Geet'}\n",
      "{'artist': 'Hariharan', 'album': 'Bhakti ke Rang', 'songs': 1511}\n"
     ]
    }
   ],
   "source": [
    "def make_album(artist, album, songs = None):\n",
    "    music_album = {'artist': artist, 'album': album}\n",
    "    if songs:\n",
    "        music_album['songs'] = songs\n",
    "    return music_album\n",
    "\n",
    "album_0 = make_album(\"KK\", \"Tribute to KK\")\n",
    "album_1 = make_album(\"Gulshan Kumar\", \"Bhakti Geet\")\n",
    "album_2 = make_album(\"Hariharan\", \"Bhakti ke Rang\", 1511)\n",
    "print(album_0)\n",
    "print(album_1)\n",
    "print(album_2)"
   ]
  },
  {
   "cell_type": "code",
   "execution_count": 27,
   "id": "d86ac471-1da2-4c2d-8be5-4103d1de3e74",
   "metadata": {},
   "outputs": [
    {
     "name": "stdin",
     "output_type": "stream",
     "text": [
      "\n",
      "Enter artist name:  KK\n",
      "Enter album name:  Tribute to KK\n"
     ]
    },
    {
     "name": "stdout",
     "output_type": "stream",
     "text": [
      "{'artist': 'KK', 'album': 'Tribute to KK'}\n"
     ]
    },
    {
     "name": "stdin",
     "output_type": "stream",
     "text": [
      "Want to quit?(y/n)  y\n"
     ]
    }
   ],
   "source": [
    "to_continue = True\n",
    "while to_continue:\n",
    "    artist = input(\"\\nEnter artist name: \")\n",
    "    album = input(\"Enter album name: \")\n",
    "    music_album = make_album(artist, album)\n",
    "    print(music_album)\n",
    "    quit = input(\"Want to quit?(y/n) \")\n",
    "    if quit == 'y':\n",
    "        to_continue = False\n"
   ]
  },
  {
   "cell_type": "code",
   "execution_count": 28,
   "id": "3e574e75-1349-4372-a75d-62aa31765e97",
   "metadata": {},
   "outputs": [],
   "source": [
    "## Passing a List"
   ]
  },
  {
   "cell_type": "code",
   "execution_count": 29,
   "id": "3064ddf3-5eb7-4c89-aa13-de62c5ab68bf",
   "metadata": {},
   "outputs": [
    {
     "name": "stdout",
     "output_type": "stream",
     "text": [
      "Hello, Sam!\n",
      "Hello, Ana!\n",
      "Hello, Natalie!\n",
      "Hello, Sara!\n"
     ]
    }
   ],
   "source": [
    "def greet_users(users):\n",
    "    for user in users:\n",
    "        msg = f\"Hello, {user.title()}!\"\n",
    "        print(msg)\n",
    "\n",
    "users = ['sam', 'ana', 'natalie', 'sara']\n",
    "greet_users(users)"
   ]
  },
  {
   "cell_type": "code",
   "execution_count": 31,
   "id": "60b8e75c-240d-47df-8bb9-2640adc16666",
   "metadata": {},
   "outputs": [
    {
     "name": "stdout",
     "output_type": "stream",
     "text": [
      "Completing Dodecahedron design...\n",
      "Completing Robot Pendant design...\n",
      "Completing Phone Case design...\n",
      "\n",
      "Below are the completed models:\n",
      "Dodecahedron\n",
      "Robot Pendant\n",
      "Phone Case\n"
     ]
    }
   ],
   "source": [
    "## Modifying a List in a Function\n",
    "unprinted_designs = ['phone case', 'robot pendant', 'dodecahedron']\n",
    "completed_models = []\n",
    "while unprinted_designs:\n",
    "    design = unprinted_designs.pop()\n",
    "    print(f\"Completing {design.title()} design...\")\n",
    "    completed_models.append(design)\n",
    "\n",
    "print(\"\\nBelow are the completed models:\")\n",
    "for model in completed_models:\n",
    "    print(model.title())"
   ]
  },
  {
   "cell_type": "code",
   "execution_count": 35,
   "id": "abe9152b-c048-475e-8f5c-39bbaec36526",
   "metadata": {},
   "outputs": [
    {
     "name": "stdout",
     "output_type": "stream",
     "text": [
      "Completing Dodecahedron design...\n",
      "Completing Robot Pendant design...\n",
      "Completing Phone Case design...\n",
      "\n",
      "Below are the completed models:\n",
      "Dodecahedron\n",
      "Robot Pendant\n",
      "Phone Case\n"
     ]
    },
    {
     "data": {
      "text/plain": [
       "['phone case', 'robot pendant', 'dodecahedron']"
      ]
     },
     "execution_count": 35,
     "metadata": {},
     "output_type": "execute_result"
    }
   ],
   "source": [
    "def print_models(unprinted_designs, completed_models):\n",
    "    while unprinted_designs:\n",
    "        design = unprinted_designs.pop()\n",
    "        print(f\"Completing {design.title()} design...\")\n",
    "        completed_models.append(design)\n",
    "\n",
    "def show_completed_models(completed_models):\n",
    "    print(\"\\nBelow are the completed models:\")\n",
    "    for model in completed_models:\n",
    "        print(model.title())\n",
    "\n",
    "unprinted_designs = ['phone case', 'robot pendant', 'dodecahedron']\n",
    "completed_models = []\n",
    "\n",
    "print_models(unprinted_designs[:], completed_models)\n",
    "show_completed_models(completed_models)\n",
    "unprinted_designs"
   ]
  },
  {
   "cell_type": "code",
   "execution_count": 36,
   "id": "6282c115-c36d-4847-b3c0-73794b457fc9",
   "metadata": {},
   "outputs": [
    {
     "name": "stdout",
     "output_type": "stream",
     "text": [
      "hello\n",
      "hiiii\n",
      "namaskaar\n",
      "ram ram bhai\n"
     ]
    }
   ],
   "source": [
    "msgs = ['hello', 'hiiii', 'namaskaar', 'ram ram bhai']\n",
    "def show_messages(messages):\n",
    "    for msg in messages:\n",
    "        print(msg)\n",
    "\n",
    "show_messages(msgs)"
   ]
  },
  {
   "cell_type": "code",
   "execution_count": 40,
   "id": "2c29f8db-7a10-4480-9d06-dec045855d27",
   "metadata": {},
   "outputs": [
    {
     "name": "stdout",
     "output_type": "stream",
     "text": [
      "sending ram ram bhai...\n",
      "sending namaskaar...\n",
      "sending hiiii...\n",
      "sending hello...\n",
      "['hello', 'hiiii', 'namaskaar', 'ram ram bhai']\n",
      "['ram ram bhai', 'namaskaar', 'hiiii', 'hello']\n"
     ]
    }
   ],
   "source": [
    "def send_messages(messages, sent_messages):\n",
    "    while messages:\n",
    "        msg = messages.pop()\n",
    "        print(f\"sending {msg}...\")\n",
    "        sent_messages.append(msg)\n",
    "\n",
    "messages = ['hello', 'hiiii', 'namaskaar', 'ram ram bhai']\n",
    "sent_messages = []\n",
    "\n",
    "send_messages(messages[:], sent_messages)\n",
    "print(messages)\n",
    "print(sent_messages)"
   ]
  },
  {
   "cell_type": "code",
   "execution_count": 41,
   "id": "428edc6d-9c8a-489a-a34c-853c83fa2c55",
   "metadata": {},
   "outputs": [],
   "source": [
    "## Passing an Arbitrary number of arguments"
   ]
  },
  {
   "cell_type": "code",
   "execution_count": 43,
   "id": "e7ff0f95-b22b-41b2-bd00-546cc3a330b4",
   "metadata": {},
   "outputs": [
    {
     "name": "stdout",
     "output_type": "stream",
     "text": [
      "\n",
      "A pizza is being prepared with the following toppings:\n",
      "- pepperoni\n",
      "\n",
      "A pizza is being prepared with the following toppings:\n",
      "- mushrooms\n",
      "- extra cheese\n",
      "- green pepper\n"
     ]
    }
   ],
   "source": [
    "## The (*toppings) in function argument makes an empty tuple and pack whatever value it receives\n",
    "## into this tuple.\n",
    "def make_pizza(*toppings):\n",
    "    print(\"\\nA pizza is being prepared with the following toppings:\")\n",
    "    for topping in toppings:\n",
    "        print(f\"- {topping}\")\n",
    "\n",
    "make_pizza('pepperoni')\n",
    "make_pizza('mushrooms', 'extra cheese', 'green pepper')"
   ]
  },
  {
   "cell_type": "code",
   "execution_count": 45,
   "id": "abdd50f9-7075-4764-9c70-57d0b04dab99",
   "metadata": {},
   "outputs": [
    {
     "name": "stdout",
     "output_type": "stream",
     "text": [
      "\n",
      "Making a 12-inch pizza with the following toppings:\n",
      "- pepperoni\n",
      "\n",
      "Making a 15-inch pizza with the following toppings:\n",
      "- mushrooms\n",
      "- extra cheese\n",
      "- green pepper\n"
     ]
    }
   ],
   "source": [
    "## Mixed Positional and Arbitrary Arguments\n",
    "def make_pizza(size, *toppings):\n",
    "    print(f\"\\nMaking a {size}-inch pizza with the following toppings:\")\n",
    "    for topping in toppings:\n",
    "        print(f\"- {topping}\")\n",
    "\n",
    "make_pizza(12, 'pepperoni')\n",
    "make_pizza(15, 'mushrooms', 'extra cheese', 'green pepper')"
   ]
  },
  {
   "cell_type": "code",
   "execution_count": 48,
   "id": "8c4507ee-b7e1-49b5-b9bb-fffcab1a4110",
   "metadata": {},
   "outputs": [
    {
     "name": "stdout",
     "output_type": "stream",
     "text": [
      "{'occupation': 'businessman', 'residence': 'Rishikesh', 'country': 'Bharat', 'first': 'dheeraj', 'last': 'kumar'}\n"
     ]
    }
   ],
   "source": [
    "## Using Arbitrary Keyword Arguments\n",
    "# ** -> Let's any number of arguments(key-value) pairs\n",
    "def build_profile(first, last, **user_info):\n",
    "    user_info['first'] = first\n",
    "    user_info['last'] = last\n",
    "    return user_info\n",
    "\n",
    "user_profile = build_profile('dheeraj', 'kumar', occupation = 'businessman', residence = 'Rishikesh', country = 'Bharat')\n",
    "print(user_profile)"
   ]
  },
  {
   "cell_type": "code",
   "execution_count": 49,
   "id": "7d3fef82-8a8a-4e37-8253-f15d57aaf1d9",
   "metadata": {},
   "outputs": [
    {
     "name": "stdout",
     "output_type": "stream",
     "text": [
      "\n",
      "A sandwich is being prepared with following items:\n",
      "- veggies\n",
      "\n",
      "A sandwich is being prepared with following items:\n",
      "\n",
      "A sandwich is being prepared with following items:\n",
      "- carrot\n",
      "- onion\n",
      "- cheese\n",
      "- veggies\n"
     ]
    }
   ],
   "source": [
    "def prepare_sandwich(*ingredients):\n",
    "    print(\"\\nA sandwich is being prepared with following items:\")\n",
    "    for item in ingredients:\n",
    "        print(f\"- {item}\")\n",
    "\n",
    "prepare_sandwich('veggies')\n",
    "prepare_sandwich()\n",
    "prepare_sandwich('carrot', 'onion', 'cheese', 'veggies')"
   ]
  },
  {
   "cell_type": "code",
   "execution_count": 50,
   "id": "277194ad-933a-4915-94b1-70e73f4ff466",
   "metadata": {},
   "outputs": [
    {
     "name": "stdout",
     "output_type": "stream",
     "text": [
      "{'manufacturer': 'audi', 'model': '999'}\n",
      "{'color': 'white', 'tow_package': True, 'manufacturer': 'porsche', 'model': 'x22'}\n"
     ]
    }
   ],
   "source": [
    "def make_car(manufacturer, model, **car_info):\n",
    "    car_info['manufacturer'] = manufacturer\n",
    "    car_info['model'] = model\n",
    "    return car_info\n",
    "\n",
    "car_info = make_car('audi', '999')\n",
    "car_info1 = make_car('porsche', 'x22', color = 'white', tow_package = True)\n",
    "\n",
    "print(car_info)\n",
    "print(car_info1)"
   ]
  },
  {
   "cell_type": "code",
   "execution_count": null,
   "id": "7e2cd554-66b2-4449-a626-cc54bce078d9",
   "metadata": {},
   "outputs": [],
   "source": [
    "## Storing Your Functions in Modules"
   ]
  },
  {
   "cell_type": "code",
   "execution_count": 54,
   "id": "3c8fcb6c-5cbf-4133-91a3-12b117a0096f",
   "metadata": {},
   "outputs": [],
   "source": [
    "## IMPORTing an Entire Module"
   ]
  },
  {
   "cell_type": "code",
   "execution_count": 56,
   "id": "221a9abe-d49e-4226-b4cd-17e18feb29ce",
   "metadata": {},
   "outputs": [],
   "source": [
    "# import {module_name}\n",
    "\n",
    "# # use functions as:\n",
    "# module_name.function_name()"
   ]
  },
  {
   "cell_type": "code",
   "execution_count": 58,
   "id": "845af746-7ef8-4dc4-bdf2-bd98f1ccd47b",
   "metadata": {},
   "outputs": [],
   "source": [
    "## IMPORTing Specific Functions\n",
    "# from module_name import function_name\n",
    "\n",
    "# call directly\n",
    "# function_name()"
   ]
  },
  {
   "cell_type": "code",
   "execution_count": 59,
   "id": "7de6841a-6381-4396-9a63-9c6a8d30054e",
   "metadata": {},
   "outputs": [],
   "source": [
    "## Using as to Give a Function an Alias\n",
    "# from module_name import function_name as func_alias"
   ]
  },
  {
   "cell_type": "code",
   "execution_count": 60,
   "id": "2b7b921d-1905-4ad8-a078-246dc8af8c50",
   "metadata": {},
   "outputs": [],
   "source": [
    "## Using as to Give a Module an Alias\n",
    "# import module_name as mod_alias"
   ]
  },
  {
   "cell_type": "code",
   "execution_count": 61,
   "id": "e79e9a94-190c-4caf-ae45-e8aa36af635b",
   "metadata": {},
   "outputs": [],
   "source": [
    "## Import All Functions in a Module\n",
    "# from module_name import *"
   ]
  },
  {
   "cell_type": "code",
   "execution_count": null,
   "id": "582a6bb3-06ad-4863-ae20-f29f722692dc",
   "metadata": {},
   "outputs": [],
   "source": []
  }
 ],
 "metadata": {
  "kernelspec": {
   "display_name": "Python 3 (ipykernel)",
   "language": "python",
   "name": "python3"
  },
  "language_info": {
   "codemirror_mode": {
    "name": "ipython",
    "version": 3
   },
   "file_extension": ".py",
   "mimetype": "text/x-python",
   "name": "python",
   "nbconvert_exporter": "python",
   "pygments_lexer": "ipython3",
   "version": "3.11.5"
  }
 },
 "nbformat": 4,
 "nbformat_minor": 5
}
