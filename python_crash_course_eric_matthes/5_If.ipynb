{
 "cells": [
  {
   "cell_type": "code",
   "execution_count": 1,
   "id": "0905de35-f967-4c8f-a287-81b485d33201",
   "metadata": {},
   "outputs": [],
   "source": [
    "## IF STATEMENTS"
   ]
  },
  {
   "cell_type": "code",
   "execution_count": 2,
   "id": "b856037f-a852-412e-9505-12bbd947a148",
   "metadata": {},
   "outputs": [
    {
     "name": "stdout",
     "output_type": "stream",
     "text": [
      "AUDI\n",
      "Bmw\n",
      "Benz\n",
      "Mercedes\n"
     ]
    }
   ],
   "source": [
    "cars = ['audi', 'bmw', 'benz', 'mercedes']\n",
    "for car in cars:\n",
    "    if car == 'audi':\n",
    "        print(car.upper())\n",
    "    else:\n",
    "        print(car.title())"
   ]
  },
  {
   "cell_type": "code",
   "execution_count": 3,
   "id": "69684a81-aa72-46c8-90ff-fc7ac0a1e9f7",
   "metadata": {},
   "outputs": [
    {
     "data": {
      "text/plain": [
       "True"
      ]
     },
     "execution_count": 3,
     "metadata": {},
     "output_type": "execute_result"
    }
   ],
   "source": [
    "car = 'audi'\n",
    "car == 'audi'"
   ]
  },
  {
   "cell_type": "code",
   "execution_count": 5,
   "id": "38f3c85f-306a-41d4-8012-c0efa909e1d8",
   "metadata": {},
   "outputs": [
    {
     "data": {
      "text/plain": [
       "True"
      ]
     },
     "execution_count": 5,
     "metadata": {},
     "output_type": "execute_result"
    }
   ],
   "source": [
    "car.lower() == 'Audi'.lower()"
   ]
  },
  {
   "cell_type": "code",
   "execution_count": 6,
   "id": "1a11ac82-e042-42d9-9c35-be16e4cd0296",
   "metadata": {},
   "outputs": [
    {
     "name": "stdout",
     "output_type": "stream",
     "text": [
      "Ohh! We have got my favourite fruit here.\n"
     ]
    }
   ],
   "source": [
    "fruits = ['lemon', 'mango', 'apple', 'pineapple', 'guava']\n",
    "if 'guava' in fruits:\n",
    "    print(\"Ohh! We have got my favourite fruit here.\")"
   ]
  },
  {
   "cell_type": "code",
   "execution_count": 8,
   "id": "cb2f1919-6738-4dbf-9507-9b79cea5d7e7",
   "metadata": {},
   "outputs": [
    {
     "name": "stdout",
     "output_type": "stream",
     "text": [
      "Is car == 'toyota' ? I predict Yeah\n",
      "True\n"
     ]
    }
   ],
   "source": [
    "car = 'toyota'\n",
    "print(\"Is car == 'toyota' ? I predict Yeah\")\n",
    "print(car == 'toyota')"
   ]
  },
  {
   "cell_type": "code",
   "execution_count": 9,
   "id": "adbce707-c758-4089-99ab-77d1edf11617",
   "metadata": {},
   "outputs": [
    {
     "name": "stdout",
     "output_type": "stream",
     "text": [
      "Is car == 'audi' ? I predict Nopes\n",
      "False\n"
     ]
    }
   ],
   "source": [
    "print(\"Is car == 'audi' ? I predict Nopes\")\n",
    "print(car == 'audi')"
   ]
  },
  {
   "cell_type": "code",
   "execution_count": 10,
   "id": "98b71b87-24ca-44b1-8452-1a80f68c1f6b",
   "metadata": {},
   "outputs": [
    {
     "name": "stdout",
     "output_type": "stream",
     "text": [
      "You got 5 pts.\n"
     ]
    }
   ],
   "source": [
    "alien_color = 'green'\n",
    "if alien_color == 'green':\n",
    "    print(\"You got 5 pts.\")"
   ]
  },
  {
   "cell_type": "code",
   "execution_count": 11,
   "id": "ba71484c-c943-49e3-bbb2-4af4de395e23",
   "metadata": {},
   "outputs": [],
   "source": [
    "alien_color = 'red'\n",
    "if alien_color == 'green':\n",
    "    print(\"You got 5 pts.\")"
   ]
  },
  {
   "cell_type": "code",
   "execution_count": 1,
   "id": "ccd8fdc0-768a-4d74-80b3-4cdfa5cce3d6",
   "metadata": {},
   "outputs": [
    {
     "name": "stdout",
     "output_type": "stream",
     "text": [
      "You earned 10 pts.\n"
     ]
    }
   ],
   "source": [
    "alien_color = 'red'\n",
    "if alien_color == 'green':\n",
    "    print(\"You earned 5 pts.\")\n",
    "else:\n",
    "    print(\"You earned 10 pts.\")"
   ]
  },
  {
   "cell_type": "code",
   "execution_count": 5,
   "id": "98b72a30-495f-4784-bcfe-668b05e71122",
   "metadata": {},
   "outputs": [
    {
     "name": "stdout",
     "output_type": "stream",
     "text": [
      "You earned 15 pts.\n"
     ]
    }
   ],
   "source": [
    "alien_color = 'red'\n",
    "if alien_color == 'green':\n",
    "    print(\"You earned 5 pts.\")\n",
    "elif alien_color == 'yellow':\n",
    "    print(\"You earned 10 pts.\")\n",
    "else:\n",
    "    print(\"You earned 15 pts.\")"
   ]
  },
  {
   "cell_type": "code",
   "execution_count": 8,
   "id": "a1473088-f989-4bb3-87fa-04d7ed40e650",
   "metadata": {},
   "outputs": [
    {
     "name": "stdout",
     "output_type": "stream",
     "text": [
      "The person is a teenager\n"
     ]
    }
   ],
   "source": [
    "age = 18\n",
    "if age < 2:\n",
    "    print(\"The person is a baby\")\n",
    "elif age >= 2 and age < 4:\n",
    "    print(\"The person is a toddler\")\n",
    "elif age >= 4 and age < 13:\n",
    "    print(\"The person is a kid\")\n",
    "elif age >= 13 and age < 20:\n",
    "    print(\"The person is a teenager\")\n",
    "elif age >= 20 and age < 65:\n",
    "    print(\"The person is an adult\")\n",
    "else:\n",
    "    print(\"The person is an elder\")"
   ]
  },
  {
   "cell_type": "code",
   "execution_count": 10,
   "id": "10424942-1752-43a0-955a-d1a19209132d",
   "metadata": {},
   "outputs": [
    {
     "name": "stdout",
     "output_type": "stream",
     "text": [
      "You like bananas\n",
      "Wow, You like guavas\n",
      "The grapes are sour\n"
     ]
    }
   ],
   "source": [
    "fruits = ['bananas', 'guavas', 'grapes']\n",
    "if 'bananas' in fruits:\n",
    "    print(\"You like bananas\")\n",
    "if 'mango' in fruits:\n",
    "    print(\"You like mangoes\")\n",
    "if 'guavas' in fruits:\n",
    "    print(\"Wow, You like guavas\")\n",
    "if 'apple' in fruits:\n",
    "    print(\"Wow, You like apples too\")\n",
    "if 'grapes' in fruits:\n",
    "    print(\"The grapes are sour\")"
   ]
  },
  {
   "cell_type": "code",
   "execution_count": 11,
   "id": "ab3a7415-86bb-4334-b7f6-7107468dc4f5",
   "metadata": {},
   "outputs": [],
   "source": [
    "## Using IF statements with Lists"
   ]
  },
  {
   "cell_type": "code",
   "execution_count": 13,
   "id": "7a50e300-30dd-4f0d-ab10-0542e7fe9b77",
   "metadata": {},
   "outputs": [
    {
     "name": "stdout",
     "output_type": "stream",
     "text": [
      "Adding mushroom.\n",
      "Adding green pepper.\n",
      "Adding cheese.\n",
      "\n",
      "Your pizza is ready.\n"
     ]
    }
   ],
   "source": [
    "toppings = ['mushroom', 'green pepper', 'cheese']\n",
    "for topping in toppings:\n",
    "    print(f\"Adding {topping}.\")\n",
    "print(\"\\nYour pizza is ready.\")"
   ]
  },
  {
   "cell_type": "code",
   "execution_count": 14,
   "id": "355194c5-7f34-440e-b155-83379434796e",
   "metadata": {},
   "outputs": [
    {
     "name": "stdout",
     "output_type": "stream",
     "text": [
      "Adding mushroom.\n",
      "Sorry, green pepper is not available.\n",
      "Adding cheese.\n",
      "\n",
      "Your pizza is ready.\n"
     ]
    }
   ],
   "source": [
    "toppings = ['mushroom', 'green pepper', 'cheese']\n",
    "for topping in toppings:\n",
    "    if topping == 'green pepper':\n",
    "        print(f\"Sorry, {topping} is not available.\")\n",
    "    else:\n",
    "        print(f\"Adding {topping}.\")\n",
    "print(\"\\nYour pizza is ready.\")"
   ]
  },
  {
   "cell_type": "code",
   "execution_count": 15,
   "id": "91aa7330-1286-4f5a-b686-53a3ebe6d8b2",
   "metadata": {},
   "outputs": [
    {
     "name": "stdout",
     "output_type": "stream",
     "text": [
      "List is empty.\n"
     ]
    }
   ],
   "source": [
    "toppings = []\n",
    "if toppings:\n",
    "    print(\"It's not empty.\")\n",
    "else:\n",
    "    print(\"List is empty.\")"
   ]
  },
  {
   "cell_type": "code",
   "execution_count": 16,
   "id": "5a764351-db5d-4036-bf12-aaa454414568",
   "metadata": {},
   "outputs": [
    {
     "name": "stdout",
     "output_type": "stream",
     "text": [
      "Adding mushrooms\n",
      "Sorry, we ran out of french fries supplies.\n",
      "Adding extra cheese\n",
      "\n",
      "Finally done with your pizza.\n"
     ]
    }
   ],
   "source": [
    "available_toppings = ['mushrooms', 'olives', 'green peppers', 'pepperoni', 'pineapple', 'extra cheese']\n",
    "requested_toppings = ['mushrooms', 'french fries', 'extra cheese']\n",
    "\n",
    "for requested_topping in requested_toppings:\n",
    "    if requested_topping in available_toppings:\n",
    "        print(f\"Adding {requested_topping}\")\n",
    "    else:\n",
    "        print(f\"Sorry, we ran out of {requested_topping} supplies.\")\n",
    "print(f\"\\nFinally done with your pizza.\")"
   ]
  },
  {
   "cell_type": "code",
   "execution_count": 18,
   "id": "950068b7-b96f-47ce-99f0-48e44f44bff0",
   "metadata": {},
   "outputs": [
    {
     "name": "stdout",
     "output_type": "stream",
     "text": [
      "Hello admin, would you like to see a status report?\n",
      "Hi joe, thank you for logging in again.\n",
      "Hi dia, thank you for logging in again.\n",
      "Hi sara, thank you for logging in again.\n",
      "Hi sam, thank you for logging in again.\n"
     ]
    }
   ],
   "source": [
    "usernames = ['admin', 'joe', 'dia', 'sara', 'sam']\n",
    "for user in usernames:\n",
    "    if user == 'admin':\n",
    "        print(f\"Hello {user}, would you like to see a status report?\")\n",
    "    else:\n",
    "        print(f\"Hi {user}, thank you for logging in again.\")"
   ]
  },
  {
   "cell_type": "code",
   "execution_count": 24,
   "id": "b41051ed-ab93-48c9-b919-aea3cfb1926a",
   "metadata": {},
   "outputs": [
    {
     "name": "stdout",
     "output_type": "stream",
     "text": [
      "This username is available.\n",
      "This username isn't available.\n",
      "This username isn't available.\n",
      "This username is available.\n",
      "This username is available.\n",
      "This username isn't available.\n"
     ]
    }
   ],
   "source": [
    "current_users = ['sam', 'John', 'sara', 'Dia', 'joey']\n",
    "new_users = ['kumar', 'Sam', 'Dia', 'Jocey', 'rao', 'SARA']\n",
    "\n",
    "current_users_list = []\n",
    "for user in current_users:\n",
    "    current_users_list.append(user.lower())\n",
    "\n",
    "for user in new_users:\n",
    "    if user.lower() in current_users_list:\n",
    "        print(\"This username isn't available.\")\n",
    "    else:\n",
    "        print(\"This username is available.\")"
   ]
  },
  {
   "cell_type": "code",
   "execution_count": null,
   "id": "3f97254a-64ab-4983-8e32-c81300a3a593",
   "metadata": {},
   "outputs": [],
   "source": []
  }
 ],
 "metadata": {
  "kernelspec": {
   "display_name": "Python 3 (ipykernel)",
   "language": "python",
   "name": "python3"
  },
  "language_info": {
   "codemirror_mode": {
    "name": "ipython",
    "version": 3
   },
   "file_extension": ".py",
   "mimetype": "text/x-python",
   "name": "python",
   "nbconvert_exporter": "python",
   "pygments_lexer": "ipython3",
   "version": "3.11.5"
  }
 },
 "nbformat": 4,
 "nbformat_minor": 5
}
