{
 "cells": [
  {
   "cell_type": "code",
   "execution_count": 2,
   "id": "abab6e7c-f8a6-46b6-a7b3-c7580bbebafe",
   "metadata": {},
   "outputs": [
    {
     "name": "stdout",
     "output_type": "stream",
     "text": [
      "Ram Ram saare ne!\n"
     ]
    }
   ],
   "source": [
    "print('Ram Ram saare ne!')"
   ]
  },
  {
   "cell_type": "code",
   "execution_count": 1,
   "id": "ab8e9773-9b92-4828-9759-57bfcc9a6ea2",
   "metadata": {},
   "outputs": [
    {
     "name": "stdout",
     "output_type": "stream",
     "text": [
      "bhai Ram Ram\n"
     ]
    }
   ],
   "source": [
    "greeting ='Ram Ram'\n",
    "print('bhai', greeting)"
   ]
  },
  {
   "cell_type": "code",
   "execution_count": 7,
   "id": "e1f959a3-67ed-488f-ba5d-efe72f90315c",
   "metadata": {},
   "outputs": [],
   "source": [
    "# Variables and Simple Data Types"
   ]
  },
  {
   "cell_type": "code",
   "execution_count": 13,
   "id": "48043cd5-87a3-4e71-bc3c-e907eca10fb9",
   "metadata": {},
   "outputs": [
    {
     "name": "stdout",
     "output_type": "stream",
     "text": [
      "This is a message\n"
     ]
    }
   ],
   "source": [
    "message = \"This is a message\"\n",
    "print(message)"
   ]
  },
  {
   "cell_type": "code",
   "execution_count": 14,
   "id": "cd13e4d5-4e4b-4a07-b17b-d4fcc7366a01",
   "metadata": {},
   "outputs": [
    {
     "name": "stdout",
     "output_type": "stream",
     "text": [
      "This message is updated\n"
     ]
    }
   ],
   "source": [
    "message = \"This message is updated\"\n",
    "print(message)"
   ]
  },
  {
   "cell_type": "code",
   "execution_count": 15,
   "id": "ae2ba0b3-7d47-443c-9ccb-14042e3b9954",
   "metadata": {},
   "outputs": [],
   "source": [
    "# String"
   ]
  },
  {
   "cell_type": "code",
   "execution_count": 19,
   "id": "f5acaa6f-d25f-44fb-b175-1bb5db7dc1a5",
   "metadata": {},
   "outputs": [
    {
     "name": "stdout",
     "output_type": "stream",
     "text": [
      "This is a string\n"
     ]
    }
   ],
   "source": [
    "string_1 = \"This is a string\"\n",
    "print(string_1)"
   ]
  },
  {
   "cell_type": "code",
   "execution_count": 20,
   "id": "39f35a17-d3c2-41a4-878a-2250ac3df39e",
   "metadata": {},
   "outputs": [
    {
     "name": "stdout",
     "output_type": "stream",
     "text": [
      "The name of Joe's dog is leo\n"
     ]
    }
   ],
   "source": [
    "string_2 = 'This is also a string'\n",
    "string_3 = \"The name of Joe's dog is leo\"\n",
    "print(string_3)"
   ]
  },
  {
   "cell_type": "code",
   "execution_count": 21,
   "id": "7bff7ae6-5864-46b6-ae31-f5490f13232e",
   "metadata": {},
   "outputs": [
    {
     "name": "stdout",
     "output_type": "stream",
     "text": [
      "He said, \"Let him go for that yatra\".\n"
     ]
    }
   ],
   "source": [
    "string_4 = 'He said, \"Let him go for that yatra\".'\n",
    "print(string_4)"
   ]
  },
  {
   "cell_type": "code",
   "execution_count": 22,
   "id": "4e7cf6bc-0c9c-4ee1-ab58-57afbb9f892e",
   "metadata": {},
   "outputs": [],
   "source": [
    "## Changing case in a string with methods"
   ]
  },
  {
   "cell_type": "code",
   "execution_count": 31,
   "id": "29121780-9bc6-4e88-b045-088756be309a",
   "metadata": {},
   "outputs": [
    {
     "name": "stdout",
     "output_type": "stream",
     "text": [
      "sara jones\n",
      "Sara Jones\n",
      "SARA JONES\n",
      "sara jones\n",
      "Sara jones\n"
     ]
    }
   ],
   "source": [
    "name = \"sara jones\"\n",
    "print(name)\n",
    "print(name.title())\n",
    "print(name.upper())\n",
    "print(name.lower())\n",
    "print(name.capitalize())"
   ]
  },
  {
   "cell_type": "code",
   "execution_count": 34,
   "id": "d94880b8-8b1c-4d93-ad2f-e3e310cc3138",
   "metadata": {},
   "outputs": [
    {
     "name": "stdout",
     "output_type": "stream",
     "text": [
      "Dheeraj Kumar\n"
     ]
    }
   ],
   "source": [
    "first_name = \"Kumar\"\n",
    "last_name = \"Dheeraj\"\n",
    "full_name = f\"{last_name} {first_name}\"\n",
    "print(full_name)"
   ]
  },
  {
   "cell_type": "code",
   "execution_count": 38,
   "id": "82c2a3de-0b5c-42c5-941c-fbd6422f2175",
   "metadata": {},
   "outputs": [
    {
     "name": "stdout",
     "output_type": "stream",
     "text": [
      "Hello, DHEERAJ KUMAR!\n"
     ]
    }
   ],
   "source": [
    "print(f\"Hello, {full_name.upper()}!\")"
   ]
  },
  {
   "cell_type": "code",
   "execution_count": 47,
   "id": "2d5ef960-5ffc-42c2-8139-ddb0ab55d59f",
   "metadata": {},
   "outputs": [
    {
     "name": "stdout",
     "output_type": "stream",
     "text": [
      "python\n",
      "\tpython\n",
      "python\n",
      "c++\n",
      "javascript\n"
     ]
    }
   ],
   "source": [
    "print(\"python\")\n",
    "print(\"\\tpython\")\n",
    "print(\"python\\nc++\\njavascript\")"
   ]
  },
  {
   "cell_type": "code",
   "execution_count": 49,
   "id": "06b5ca7b-1348-4a47-8374-819783219e95",
   "metadata": {},
   "outputs": [
    {
     "name": "stdout",
     "output_type": "stream",
     "text": [
      "Languages:\n",
      "\tSanskrit\n",
      "\tHindi\n",
      "\tMarathi\n"
     ]
    }
   ],
   "source": [
    "print(\"Languages:\\n\\tSanskrit\\n\\tHindi\\n\\tMarathi\")"
   ]
  },
  {
   "cell_type": "code",
   "execution_count": 63,
   "id": "e36ba568-454a-460b-9b18-cd905ee3c3fd",
   "metadata": {},
   "outputs": [
    {
     "data": {
      "text/plain": [
       "'python'"
      ]
     },
     "execution_count": 63,
     "metadata": {},
     "output_type": "execute_result"
    }
   ],
   "source": [
    "language = \"  python  \"\n",
    "language.strip()"
   ]
  },
  {
   "cell_type": "code",
   "execution_count": 66,
   "id": "5fdbb97b-f890-46b8-b7b0-3b30ca3b0414",
   "metadata": {},
   "outputs": [
    {
     "name": "stdout",
     "output_type": "stream",
     "text": [
      "Hello Eric, would you like to learn some python today?\n"
     ]
    }
   ],
   "source": [
    "name = \"Eric\"\n",
    "message = f\"Hello {name}, would you like to learn some python today?\"\n",
    "print(message)"
   ]
  },
  {
   "cell_type": "code",
   "execution_count": 72,
   "id": "2ee709db-8664-428e-81ed-1301eb3660c2",
   "metadata": {},
   "outputs": [
    {
     "name": "stdout",
     "output_type": "stream",
     "text": [
      "Netaji Subhash Chandra Bose once said, \"Tum mujhe khoon do, mai tumhe azaadi dunga.\"\n"
     ]
    }
   ],
   "source": [
    "author = \"Netaji Subhash Chandra Bose\"\n",
    "quote = \"Tum mujhe khoon do, mai tumhe azaadi dunga.\"\n",
    "print(f'{author} once said, \"{quote}\"')"
   ]
  },
  {
   "cell_type": "code",
   "execution_count": 73,
   "id": "b585c666-3bea-4371-a7aa-8e2bfeece4cd",
   "metadata": {},
   "outputs": [
    {
     "data": {
      "text/plain": [
       "1.5"
      ]
     },
     "execution_count": 73,
     "metadata": {},
     "output_type": "execute_result"
    }
   ],
   "source": [
    "3/2"
   ]
  },
  {
   "cell_type": "code",
   "execution_count": 74,
   "id": "3a7b2477-6247-4661-b7ae-bb9914d50cb3",
   "metadata": {},
   "outputs": [
    {
     "name": "stdout",
     "output_type": "stream",
     "text": [
      "The Zen of Python, by Tim Peters\n",
      "\n",
      "Beautiful is better than ugly.\n",
      "Explicit is better than implicit.\n",
      "Simple is better than complex.\n",
      "Complex is better than complicated.\n",
      "Flat is better than nested.\n",
      "Sparse is better than dense.\n",
      "Readability counts.\n",
      "Special cases aren't special enough to break the rules.\n",
      "Although practicality beats purity.\n",
      "Errors should never pass silently.\n",
      "Unless explicitly silenced.\n",
      "In the face of ambiguity, refuse the temptation to guess.\n",
      "There should be one-- and preferably only one --obvious way to do it.\n",
      "Although that way may not be obvious at first unless you're Dutch.\n",
      "Now is better than never.\n",
      "Although never is often better than *right* now.\n",
      "If the implementation is hard to explain, it's a bad idea.\n",
      "If the implementation is easy to explain, it may be a good idea.\n",
      "Namespaces are one honking great idea -- let's do more of those!\n"
     ]
    }
   ],
   "source": [
    "import this"
   ]
  },
  {
   "cell_type": "code",
   "execution_count": null,
   "id": "b0f80d0c-e4b1-4297-8bdf-a7f6b97517c5",
   "metadata": {},
   "outputs": [],
   "source": []
  }
 ],
 "metadata": {
  "kernelspec": {
   "display_name": "Python 3 (ipykernel)",
   "language": "python",
   "name": "python3"
  },
  "language_info": {
   "codemirror_mode": {
    "name": "ipython",
    "version": 3
   },
   "file_extension": ".py",
   "mimetype": "text/x-python",
   "name": "python",
   "nbconvert_exporter": "python",
   "pygments_lexer": "ipython3",
   "version": "3.11.5"
  }
 },
 "nbformat": 4,
 "nbformat_minor": 5
}
