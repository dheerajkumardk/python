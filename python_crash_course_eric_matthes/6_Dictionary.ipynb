{
 "cells": [
  {
   "cell_type": "code",
   "execution_count": 1,
   "id": "e5b0f3f3-2a03-4a68-9ab3-1960fca4d312",
   "metadata": {},
   "outputs": [],
   "source": [
    "# Dictionary"
   ]
  },
  {
   "cell_type": "code",
   "execution_count": 2,
   "id": "796622f1-ac1d-4c1b-9da9-4fe6848eeeff",
   "metadata": {},
   "outputs": [
    {
     "data": {
      "text/plain": [
       "{'color': 'green', 'points': 5}"
      ]
     },
     "execution_count": 2,
     "metadata": {},
     "output_type": "execute_result"
    }
   ],
   "source": [
    "alien_0 = {\"color\":\"green\", \"points\":5}\n",
    "alien_0"
   ]
  },
  {
   "cell_type": "code",
   "execution_count": 3,
   "id": "cc3a00d5-0900-4d9b-9ccd-52b21e628e93",
   "metadata": {},
   "outputs": [
    {
     "data": {
      "text/plain": [
       "dict"
      ]
     },
     "execution_count": 3,
     "metadata": {},
     "output_type": "execute_result"
    }
   ],
   "source": [
    "type(alien_0)"
   ]
  },
  {
   "cell_type": "code",
   "execution_count": 5,
   "id": "0c2f52ef-acc8-4713-9354-f33988a3ef0e",
   "metadata": {},
   "outputs": [
    {
     "data": {
      "text/plain": [
       "5"
      ]
     },
     "execution_count": 5,
     "metadata": {},
     "output_type": "execute_result"
    }
   ],
   "source": [
    "alien_0['points']"
   ]
  },
  {
   "cell_type": "code",
   "execution_count": 6,
   "id": "1694f823-283a-43e8-86eb-8d1475f0fda0",
   "metadata": {},
   "outputs": [
    {
     "data": {
      "text/plain": [
       "'green'"
      ]
     },
     "execution_count": 6,
     "metadata": {},
     "output_type": "execute_result"
    }
   ],
   "source": [
    "alien_0['color']"
   ]
  },
  {
   "cell_type": "code",
   "execution_count": 7,
   "id": "67726015-bcc9-46da-9710-e900ab1e3e01",
   "metadata": {},
   "outputs": [],
   "source": [
    "alien_0['mode'] = 'UFO'"
   ]
  },
  {
   "cell_type": "code",
   "execution_count": 12,
   "id": "6a7f784f-6820-4763-adde-acd3cea3cf0e",
   "metadata": {},
   "outputs": [
    {
     "data": {
      "text/plain": [
       "{'color': 'red', 'points': 5}"
      ]
     },
     "execution_count": 12,
     "metadata": {},
     "output_type": "execute_result"
    }
   ],
   "source": [
    "alien_0"
   ]
  },
  {
   "cell_type": "code",
   "execution_count": 9,
   "id": "eeba37e6-aeed-4a3d-b79e-2e87c218a98a",
   "metadata": {},
   "outputs": [],
   "source": [
    "alien_0['color'] = 'red'"
   ]
  },
  {
   "cell_type": "code",
   "execution_count": 11,
   "id": "85fd7eae-1cc2-4ccd-afa4-34ce031a9ad1",
   "metadata": {},
   "outputs": [],
   "source": [
    "del alien_0['mode']"
   ]
  },
  {
   "cell_type": "code",
   "execution_count": 13,
   "id": "95f060cb-6d72-4495-84c0-28e27df5e55b",
   "metadata": {},
   "outputs": [
    {
     "data": {
      "text/plain": [
       "'c'"
      ]
     },
     "execution_count": 13,
     "metadata": {},
     "output_type": "execute_result"
    }
   ],
   "source": [
    "favourite_languages = {\n",
    "    'jen': 'python',\n",
    "    'sarah': 'c',\n",
    "    'edward': 'ruby',\n",
    "    'phil': 'python'\n",
    "}\n",
    "favourite_languages['sarah']"
   ]
  },
  {
   "cell_type": "code",
   "execution_count": 14,
   "id": "7e015903-a2da-4320-99b7-6204de87b5fe",
   "metadata": {},
   "outputs": [
    {
     "name": "stdout",
     "output_type": "stream",
     "text": [
      "Favourite language of Phil is: Python.\n"
     ]
    }
   ],
   "source": [
    "language = favourite_languages['phil'].title()\n",
    "print(f\"Favourite language of Phil is: {language}.\")"
   ]
  },
  {
   "cell_type": "code",
   "execution_count": 15,
   "id": "cfdcfc03-8e6a-45cc-8539-a68500ab9e94",
   "metadata": {},
   "outputs": [],
   "source": [
    "alien_0 = {'color': 'green', 'speed': 'slow'}"
   ]
  },
  {
   "cell_type": "code",
   "execution_count": 16,
   "id": "d3b4e440-39fd-4610-94c8-09f115e7e45a",
   "metadata": {},
   "outputs": [
    {
     "data": {
      "text/plain": [
       "{'color': 'green', 'speed': 'slow'}"
      ]
     },
     "execution_count": 16,
     "metadata": {},
     "output_type": "execute_result"
    }
   ],
   "source": [
    "alien_0"
   ]
  },
  {
   "cell_type": "code",
   "execution_count": 17,
   "id": "a1fe9b34-c1e0-4487-8cdc-7588b62462a0",
   "metadata": {},
   "outputs": [
    {
     "ename": "KeyError",
     "evalue": "'points'",
     "output_type": "error",
     "traceback": [
      "\u001b[0;31m---------------------------------------------------------------------------\u001b[0m",
      "\u001b[0;31mKeyError\u001b[0m                                  Traceback (most recent call last)",
      "Cell \u001b[0;32mIn[17], line 1\u001b[0m\n\u001b[0;32m----> 1\u001b[0m alien_0[\u001b[38;5;124m'\u001b[39m\u001b[38;5;124mpoints\u001b[39m\u001b[38;5;124m'\u001b[39m]\n",
      "\u001b[0;31mKeyError\u001b[0m: 'points'"
     ]
    }
   ],
   "source": [
    "alien_0['points']"
   ]
  },
  {
   "cell_type": "code",
   "execution_count": 21,
   "id": "99316d45-14eb-4e17-9b02-448c90169d34",
   "metadata": {},
   "outputs": [],
   "source": [
    "point_value = alien_0.get('points', 'No point value assigned')"
   ]
  },
  {
   "cell_type": "code",
   "execution_count": 22,
   "id": "a5c8bf47-977e-4c53-9a0e-8af9b5b84c80",
   "metadata": {},
   "outputs": [
    {
     "data": {
      "text/plain": [
       "'No point value assigned'"
      ]
     },
     "execution_count": 22,
     "metadata": {},
     "output_type": "execute_result"
    }
   ],
   "source": [
    "point_value"
   ]
  },
  {
   "cell_type": "code",
   "execution_count": 23,
   "id": "c465ffce-8aba-4537-a914-4cbe2fc38cb9",
   "metadata": {},
   "outputs": [
    {
     "data": {
      "text/plain": [
       "{'first_name': 'dheeraj', 'last_name': 'kumar', 'age': 23, 'city': 'haridwar'}"
      ]
     },
     "execution_count": 23,
     "metadata": {},
     "output_type": "execute_result"
    }
   ],
   "source": [
    "person = {\n",
    "    'first_name': 'dheeraj',\n",
    "    'last_name': 'kumar',\n",
    "    'age': 23,\n",
    "    'city': 'haridwar'\n",
    "}\n",
    "person"
   ]
  },
  {
   "cell_type": "code",
   "execution_count": 24,
   "id": "56cd3680-197b-4941-b5e7-c2560226a284",
   "metadata": {},
   "outputs": [
    {
     "name": "stdout",
     "output_type": "stream",
     "text": [
      "dheeraj\n",
      "kumar\n",
      "23\n",
      "haridwar\n"
     ]
    }
   ],
   "source": [
    "print(person['first_name'])\n",
    "print(person['last_name'])\n",
    "print(person['age'])\n",
    "print(person['city'])"
   ]
  },
  {
   "cell_type": "code",
   "execution_count": 25,
   "id": "a9a90ce9-febe-48d7-8cd0-42f4aa44a0db",
   "metadata": {},
   "outputs": [
    {
     "data": {
      "text/plain": [
       "{'kumar': 7, 'dk': 11, 'dheeraj': 13, 'bunny': 9, 'monty': 24}"
      ]
     },
     "execution_count": 25,
     "metadata": {},
     "output_type": "execute_result"
    }
   ],
   "source": [
    "fav_nums = {\n",
    "    'kumar': 7,\n",
    "    'dk': 11,\n",
    "    'dheeraj': 13,\n",
    "    'bunny': 9,\n",
    "    'monty': 24\n",
    "}\n",
    "fav_nums"
   ]
  },
  {
   "cell_type": "code",
   "execution_count": 27,
   "id": "e09a17c0-cadb-4b24-9e7b-eef53262d6f4",
   "metadata": {},
   "outputs": [
    {
     "name": "stdout",
     "output_type": "stream",
     "text": [
      "key: kumar, value: 7\n",
      "key: dk, value: 11\n",
      "key: dheeraj, value: 13\n",
      "key: bunny, value: 9\n",
      "key: monty, value: 24\n"
     ]
    }
   ],
   "source": [
    "for items in fav_nums.items():\n",
    "    print(f\"key: {items[0]}, value: {items[1]}\")"
   ]
  },
  {
   "cell_type": "code",
   "execution_count": 28,
   "id": "012e10f5-65ba-4617-b51d-af0434985b0c",
   "metadata": {},
   "outputs": [
    {
     "data": {
      "text/plain": [
       "{'jen': 'python', 'sarah': 'c', 'edward': 'ruby', 'phil': 'python'}"
      ]
     },
     "execution_count": 28,
     "metadata": {},
     "output_type": "execute_result"
    }
   ],
   "source": [
    "favourite_languages"
   ]
  },
  {
   "cell_type": "code",
   "execution_count": 30,
   "id": "f94b2199-29e2-4a44-bcc6-a56928781798",
   "metadata": {},
   "outputs": [
    {
     "name": "stdout",
     "output_type": "stream",
     "text": [
      "Jen's favourite language is python.\n",
      "Sarah's favourite language is c.\n",
      "Edward's favourite language is ruby.\n",
      "Phil's favourite language is python.\n"
     ]
    }
   ],
   "source": [
    "for name,language in favourite_languages.items():\n",
    "    print(f\"{name.title()}'s favourite language is {language}.\")"
   ]
  },
  {
   "cell_type": "code",
   "execution_count": 33,
   "id": "d44a7447-7330-44a5-856e-ec39067f636a",
   "metadata": {},
   "outputs": [
    {
     "name": "stdout",
     "output_type": "stream",
     "text": [
      "Jen\n",
      "Sarah\n",
      "Edward\n",
      "Phil\n"
     ]
    }
   ],
   "source": [
    "for key in favourite_languages:\n",
    "    print(key.title())"
   ]
  },
  {
   "cell_type": "code",
   "execution_count": 36,
   "id": "793f2206-64d0-4a62-baaf-4abd9d774df1",
   "metadata": {},
   "outputs": [
    {
     "name": "stdout",
     "output_type": "stream",
     "text": [
      "Jen\n",
      "Sarah\n",
      "\tAhh Sarah, I see your favourite language is: c\n",
      "Edward\n",
      "\tAhh Edward, I see your favourite language is: ruby\n",
      "Phil\n"
     ]
    }
   ],
   "source": [
    "friends = ['sarah', 'edward', 'philips']\n",
    "for name in favourite_languages.keys():\n",
    "    print(name.title())\n",
    "    if name in friends:\n",
    "        print(f\"\\tAhh {name.title()}, I see your favourite language is: {favourite_languages[name]}\")"
   ]
  },
  {
   "cell_type": "code",
   "execution_count": 37,
   "id": "1f63fe99-48b2-4960-9081-64151297f91e",
   "metadata": {},
   "outputs": [
    {
     "data": {
      "text/plain": [
       "dict_values(['python', 'c', 'ruby', 'python'])"
      ]
     },
     "execution_count": 37,
     "metadata": {},
     "output_type": "execute_result"
    }
   ],
   "source": [
    "favourite_languages.values()"
   ]
  },
  {
   "cell_type": "code",
   "execution_count": 38,
   "id": "b31f845a-54f2-456a-9c2b-6a6423a49f96",
   "metadata": {},
   "outputs": [
    {
     "data": {
      "text/plain": [
       "{'c', 'python', 'ruby'}"
      ]
     },
     "execution_count": 38,
     "metadata": {},
     "output_type": "execute_result"
    }
   ],
   "source": [
    "set(favourite_languages.values())"
   ]
  },
  {
   "cell_type": "code",
   "execution_count": 41,
   "id": "5a04393d-03cc-40ac-9f14-729bd6da0020",
   "metadata": {},
   "outputs": [
    {
     "name": "stdout",
     "output_type": "stream",
     "text": [
      "The Nile flows through Egypt.\n",
      "The Ganga flows through Bharat.\n",
      "The Amazon flows through Brazil.\n"
     ]
    }
   ],
   "source": [
    "rivers = {\n",
    "    'nile': 'egypt',\n",
    "    'ganga': 'bharat',\n",
    "    'amazon': 'brazil'\n",
    "}\n",
    "for river, country in rivers.items():\n",
    "    print(f\"The {river.title()} flows through {country.title()}.\")"
   ]
  },
  {
   "cell_type": "code",
   "execution_count": 43,
   "id": "3985a03e-9c9d-4a84-ab6b-2e713abe6739",
   "metadata": {},
   "outputs": [
    {
     "name": "stdout",
     "output_type": "stream",
     "text": [
      "Nile\n",
      "Ganga\n",
      "Amazon\n"
     ]
    }
   ],
   "source": [
    "for river in rivers.keys():\n",
    "    print(river.title())"
   ]
  },
  {
   "cell_type": "code",
   "execution_count": 44,
   "id": "64f9da27-ffc7-4edf-899c-cd54954c25cb",
   "metadata": {},
   "outputs": [
    {
     "name": "stdout",
     "output_type": "stream",
     "text": [
      "Egypt\n",
      "Bharat\n",
      "Brazil\n"
     ]
    }
   ],
   "source": [
    "for country in rivers.values():\n",
    "    print(country.title())"
   ]
  },
  {
   "cell_type": "code",
   "execution_count": 47,
   "id": "706ed763-027a-4630-a62d-7e7d3ba1f7b4",
   "metadata": {},
   "outputs": [
    {
     "name": "stdout",
     "output_type": "stream",
     "text": [
      "Thanks for already taking the poll Sam.\n",
      "Thanks for already taking the poll Dia.\n",
      "Hey Kumar, We'd like to invite you to take up the poll.\n",
      "Hey Anna, We'd like to invite you to take up the poll.\n"
     ]
    }
   ],
   "source": [
    "favourite_languages = {\n",
    "    'sam': 'c',\n",
    "    'sara': 'python',\n",
    "    'dia': 'rust',\n",
    "    'joe': 'javascript'\n",
    "}\n",
    "people = ['sam', 'dia', 'kumar', 'anna']\n",
    "for person in people:\n",
    "    if person in favourite_languages:\n",
    "        print(f\"Thanks for already taking the poll {person.title()}.\")\n",
    "    else:\n",
    "        print(f\"Hey {person.title()}, We'd like to invite you to take up the poll.\")"
   ]
  },
  {
   "cell_type": "code",
   "execution_count": 48,
   "id": "7159ddf3-d05e-46e6-a690-753ed76d2a99",
   "metadata": {},
   "outputs": [],
   "source": [
    "## Nesting\n",
    "# A list of dictionaries"
   ]
  },
  {
   "cell_type": "code",
   "execution_count": 49,
   "id": "bd656ef1-1f32-42a4-ac7a-4d696ce4875f",
   "metadata": {},
   "outputs": [
    {
     "data": {
      "text/plain": [
       "[{'color': 'green', 'points': 5},\n",
       " {'color': 'yellow', 'points': 10},\n",
       " {'color': 'red', 'points': 15}]"
      ]
     },
     "execution_count": 49,
     "metadata": {},
     "output_type": "execute_result"
    }
   ],
   "source": [
    "alien_0 = {'color': 'green', 'points': 5}\n",
    "alien_1 = {'color': 'yellow', 'points': 10}\n",
    "alien_2 = {'color': 'red', 'points': 15}\n",
    "aliens = [alien_0, alien_1, alien_2]\n",
    "aliens"
   ]
  },
  {
   "cell_type": "code",
   "execution_count": 51,
   "id": "325fe232-794a-4a5b-bad7-17c916a9a426",
   "metadata": {},
   "outputs": [
    {
     "name": "stdout",
     "output_type": "stream",
     "text": [
      "{'color': 'green', 'points': 5}\n",
      "{'color': 'yellow', 'points': 10}\n",
      "{'color': 'red', 'points': 15}\n"
     ]
    }
   ],
   "source": [
    "for alien in aliens:\n",
    "    print(alien)"
   ]
  },
  {
   "cell_type": "code",
   "execution_count": 53,
   "id": "1c142f3e-a2a0-4f65-aa76-c7e309995beb",
   "metadata": {},
   "outputs": [
    {
     "data": {
      "text/plain": [
       "[{'color': 'green', 'points': 5, 'speed': 'slow'},\n",
       " {'color': 'green', 'points': 5, 'speed': 'slow'},\n",
       " {'color': 'green', 'points': 5, 'speed': 'slow'},\n",
       " {'color': 'green', 'points': 5, 'speed': 'slow'},\n",
       " {'color': 'green', 'points': 5, 'speed': 'slow'},\n",
       " {'color': 'green', 'points': 5, 'speed': 'slow'},\n",
       " {'color': 'green', 'points': 5, 'speed': 'slow'},\n",
       " {'color': 'green', 'points': 5, 'speed': 'slow'},\n",
       " {'color': 'green', 'points': 5, 'speed': 'slow'},\n",
       " {'color': 'green', 'points': 5, 'speed': 'slow'},\n",
       " {'color': 'green', 'points': 5, 'speed': 'slow'},\n",
       " {'color': 'green', 'points': 5, 'speed': 'slow'},\n",
       " {'color': 'green', 'points': 5, 'speed': 'slow'},\n",
       " {'color': 'green', 'points': 5, 'speed': 'slow'},\n",
       " {'color': 'green', 'points': 5, 'speed': 'slow'},\n",
       " {'color': 'green', 'points': 5, 'speed': 'slow'},\n",
       " {'color': 'green', 'points': 5, 'speed': 'slow'},\n",
       " {'color': 'green', 'points': 5, 'speed': 'slow'},\n",
       " {'color': 'green', 'points': 5, 'speed': 'slow'},\n",
       " {'color': 'green', 'points': 5, 'speed': 'slow'},\n",
       " {'color': 'green', 'points': 5, 'speed': 'slow'},\n",
       " {'color': 'green', 'points': 5, 'speed': 'slow'},\n",
       " {'color': 'green', 'points': 5, 'speed': 'slow'},\n",
       " {'color': 'green', 'points': 5, 'speed': 'slow'},\n",
       " {'color': 'green', 'points': 5, 'speed': 'slow'},\n",
       " {'color': 'green', 'points': 5, 'speed': 'slow'},\n",
       " {'color': 'green', 'points': 5, 'speed': 'slow'},\n",
       " {'color': 'green', 'points': 5, 'speed': 'slow'},\n",
       " {'color': 'green', 'points': 5, 'speed': 'slow'},\n",
       " {'color': 'green', 'points': 5, 'speed': 'slow'}]"
      ]
     },
     "execution_count": 53,
     "metadata": {},
     "output_type": "execute_result"
    }
   ],
   "source": [
    "# Generating 30 aliens in one go\n",
    "aliens = []\n",
    "for num in range(30):\n",
    "    aliens.append({'color': 'green', 'points': 5, 'speed': 'slow'})\n",
    "aliens"
   ]
  },
  {
   "cell_type": "code",
   "execution_count": 54,
   "id": "22b2ca51-a762-4986-8b15-49bcf251f8e3",
   "metadata": {},
   "outputs": [
    {
     "name": "stdout",
     "output_type": "stream",
     "text": [
      "Total number of aliens are: 30\n"
     ]
    }
   ],
   "source": [
    "print(f\"Total number of aliens are: {len(aliens)}\")"
   ]
  },
  {
   "cell_type": "code",
   "execution_count": 55,
   "id": "53b54d82-4196-4072-8dd8-fcb20291a3ae",
   "metadata": {},
   "outputs": [
    {
     "data": {
      "text/plain": [
       "[{'color': 'yellow', 'points': 10, 'speed': 'medium'},\n",
       " {'color': 'yellow', 'points': 10, 'speed': 'medium'},\n",
       " {'color': 'yellow', 'points': 10, 'speed': 'medium'},\n",
       " {'color': 'green', 'points': 5, 'speed': 'slow'},\n",
       " {'color': 'green', 'points': 5, 'speed': 'slow'},\n",
       " {'color': 'green', 'points': 5, 'speed': 'slow'},\n",
       " {'color': 'green', 'points': 5, 'speed': 'slow'},\n",
       " {'color': 'green', 'points': 5, 'speed': 'slow'},\n",
       " {'color': 'green', 'points': 5, 'speed': 'slow'},\n",
       " {'color': 'green', 'points': 5, 'speed': 'slow'},\n",
       " {'color': 'green', 'points': 5, 'speed': 'slow'},\n",
       " {'color': 'green', 'points': 5, 'speed': 'slow'},\n",
       " {'color': 'green', 'points': 5, 'speed': 'slow'},\n",
       " {'color': 'green', 'points': 5, 'speed': 'slow'},\n",
       " {'color': 'green', 'points': 5, 'speed': 'slow'},\n",
       " {'color': 'green', 'points': 5, 'speed': 'slow'},\n",
       " {'color': 'green', 'points': 5, 'speed': 'slow'},\n",
       " {'color': 'green', 'points': 5, 'speed': 'slow'},\n",
       " {'color': 'green', 'points': 5, 'speed': 'slow'},\n",
       " {'color': 'green', 'points': 5, 'speed': 'slow'},\n",
       " {'color': 'green', 'points': 5, 'speed': 'slow'},\n",
       " {'color': 'green', 'points': 5, 'speed': 'slow'},\n",
       " {'color': 'green', 'points': 5, 'speed': 'slow'},\n",
       " {'color': 'green', 'points': 5, 'speed': 'slow'},\n",
       " {'color': 'green', 'points': 5, 'speed': 'slow'},\n",
       " {'color': 'green', 'points': 5, 'speed': 'slow'},\n",
       " {'color': 'green', 'points': 5, 'speed': 'slow'},\n",
       " {'color': 'green', 'points': 5, 'speed': 'slow'},\n",
       " {'color': 'green', 'points': 5, 'speed': 'slow'},\n",
       " {'color': 'green', 'points': 5, 'speed': 'slow'}]"
      ]
     },
     "execution_count": 55,
     "metadata": {},
     "output_type": "execute_result"
    }
   ],
   "source": [
    "for alien in aliens[:3]:\n",
    "    if alien['color'] == 'green':\n",
    "        alien['color'] = 'yellow'\n",
    "        alien['points'] = 10\n",
    "        alien['speed'] = 'medium'\n",
    "\n",
    "aliens"
   ]
  },
  {
   "cell_type": "code",
   "execution_count": 56,
   "id": "eec821f0-7da4-4add-812e-d8c608e4153c",
   "metadata": {},
   "outputs": [
    {
     "data": {
      "text/plain": [
       "[{'color': 'red', 'points': 15, 'speed': 'fast'},\n",
       " {'color': 'red', 'points': 15, 'speed': 'fast'},\n",
       " {'color': 'red', 'points': 15, 'speed': 'fast'},\n",
       " {'color': 'yellow', 'points': 10, 'speed': 'medium'},\n",
       " {'color': 'yellow', 'points': 10, 'speed': 'medium'},\n",
       " {'color': 'green', 'points': 5, 'speed': 'slow'},\n",
       " {'color': 'green', 'points': 5, 'speed': 'slow'},\n",
       " {'color': 'green', 'points': 5, 'speed': 'slow'},\n",
       " {'color': 'green', 'points': 5, 'speed': 'slow'},\n",
       " {'color': 'green', 'points': 5, 'speed': 'slow'},\n",
       " {'color': 'green', 'points': 5, 'speed': 'slow'},\n",
       " {'color': 'green', 'points': 5, 'speed': 'slow'},\n",
       " {'color': 'green', 'points': 5, 'speed': 'slow'},\n",
       " {'color': 'green', 'points': 5, 'speed': 'slow'},\n",
       " {'color': 'green', 'points': 5, 'speed': 'slow'},\n",
       " {'color': 'green', 'points': 5, 'speed': 'slow'},\n",
       " {'color': 'green', 'points': 5, 'speed': 'slow'},\n",
       " {'color': 'green', 'points': 5, 'speed': 'slow'},\n",
       " {'color': 'green', 'points': 5, 'speed': 'slow'},\n",
       " {'color': 'green', 'points': 5, 'speed': 'slow'},\n",
       " {'color': 'green', 'points': 5, 'speed': 'slow'},\n",
       " {'color': 'green', 'points': 5, 'speed': 'slow'},\n",
       " {'color': 'green', 'points': 5, 'speed': 'slow'},\n",
       " {'color': 'green', 'points': 5, 'speed': 'slow'},\n",
       " {'color': 'green', 'points': 5, 'speed': 'slow'},\n",
       " {'color': 'green', 'points': 5, 'speed': 'slow'},\n",
       " {'color': 'green', 'points': 5, 'speed': 'slow'},\n",
       " {'color': 'green', 'points': 5, 'speed': 'slow'},\n",
       " {'color': 'green', 'points': 5, 'speed': 'slow'},\n",
       " {'color': 'green', 'points': 5, 'speed': 'slow'}]"
      ]
     },
     "execution_count": 56,
     "metadata": {},
     "output_type": "execute_result"
    }
   ],
   "source": [
    "for alien in aliens[:5]:\n",
    "    if alien['color'] == 'green':\n",
    "        alien['color'] = 'yellow'\n",
    "        alien['speed'] = 'medium'\n",
    "        alien['points'] = 10\n",
    "    elif alien['color'] == 'yellow':\n",
    "        alien['color'] = 'red'\n",
    "        alien['speed'] = 'fast'\n",
    "        alien['points'] = 15\n",
    "aliens"
   ]
  },
  {
   "cell_type": "code",
   "execution_count": 57,
   "id": "cf2e1971-b8a4-48ae-8a30-7a0e59739269",
   "metadata": {},
   "outputs": [],
   "source": [
    "# List in a dictionary"
   ]
  },
  {
   "cell_type": "code",
   "execution_count": 59,
   "id": "cc863e72-5ba7-4340-9e3d-52821afd2569",
   "metadata": {},
   "outputs": [
    {
     "name": "stdout",
     "output_type": "stream",
     "text": [
      "You ordered a thick-crust pizza with the following toppings:\n",
      "\tmushrooms\n",
      "\textra cheese\n"
     ]
    }
   ],
   "source": [
    "pizza = {\n",
    "    'crust': 'thick',\n",
    "    'toppings': ['mushrooms', 'extra cheese']\n",
    "}\n",
    "\n",
    "print(f\"You ordered a {pizza['crust']}-crust pizza with the following toppings:\")\n",
    "\n",
    "for topping in pizza['toppings']:\n",
    "    print(f\"\\t{topping}\")"
   ]
  },
  {
   "cell_type": "code",
   "execution_count": 61,
   "id": "b0c7cf91-6efb-4074-b453-0132a886db40",
   "metadata": {},
   "outputs": [
    {
     "name": "stdout",
     "output_type": "stream",
     "text": [
      "Jen's favourite languages are: \n",
      "\tPython\n",
      "\tRuby\n",
      "Sarah's favourite languages are: \n",
      "\tC\n",
      "Edward's favourite languages are: \n",
      "\tRust\n",
      "\tGo\n",
      "Phil's favourite languages are: \n",
      "\tHaskell\n",
      "\tGo\n"
     ]
    }
   ],
   "source": [
    "favourite_languages = {\n",
    "    'jen': ['python', 'ruby'],\n",
    "    'sarah': ['c'],\n",
    "    'edward': ['rust', 'go'],\n",
    "    'phil': ['haskell', 'go']\n",
    "}\n",
    "for person,languages in favourite_languages.items():\n",
    "    print(f\"{person.title()}'s favourite languages are: \")\n",
    "    for language in languages:\n",
    "        print(f\"\\t{language.title()}\")"
   ]
  },
  {
   "cell_type": "code",
   "execution_count": 62,
   "id": "794efb9f-36f4-48b7-84b3-06c4b048854e",
   "metadata": {},
   "outputs": [],
   "source": [
    "# A dictionary in a dictionary"
   ]
  },
  {
   "cell_type": "code",
   "execution_count": 63,
   "id": "a88747a8-a75d-4a1a-bc39-15924e90c37e",
   "metadata": {},
   "outputs": [
    {
     "data": {
      "text/plain": [
       "{'rcharan': {'first': 'ram', 'last': 'charan', 'location': 'hyderabad'},\n",
       " 'pkalyan': {'first': 'pawan', 'last': 'kalyan', 'location': 'jubilee hills'}}"
      ]
     },
     "execution_count": 63,
     "metadata": {},
     "output_type": "execute_result"
    }
   ],
   "source": [
    "users = {\n",
    "    'rcharan': {\n",
    "        'first': 'ram',\n",
    "        'last': 'charan',\n",
    "        'location': 'hyderabad'\n",
    "    },\n",
    "    'pkalyan': {\n",
    "        'first': 'pawan',\n",
    "        'last': 'kalyan',\n",
    "        'location': 'jubilee hills'\n",
    "    }\n",
    "}\n",
    "users"
   ]
  },
  {
   "cell_type": "code",
   "execution_count": 69,
   "id": "50c4c4f2-068c-4b1f-a05c-cc14e5e16535",
   "metadata": {},
   "outputs": [
    {
     "name": "stdout",
     "output_type": "stream",
     "text": [
      "Username: rcharan\n",
      "\tFullName: Ram Charan\n",
      "\tLocation: Hyderabad\n",
      "Username: pkalyan\n",
      "\tFullName: Pawan Kalyan\n",
      "\tLocation: Jubilee Hills\n"
     ]
    }
   ],
   "source": [
    "for user_name, user_info in users.items():\n",
    "    print(f\"Username: {user_name}\")\n",
    "    print(f\"\\tFullName: {user_info['first'].title()} {user_info['last'].title()}\")\n",
    "    print(f\"\\tLocation: {user_info['location'].title()}\")"
   ]
  },
  {
   "cell_type": "code",
   "execution_count": 71,
   "id": "a9a8da29-5f0a-4604-a348-310dd4e6fd4d",
   "metadata": {},
   "outputs": [
    {
     "data": {
      "text/plain": [
       "[{'first': 'Sara', 'last': 'Joe', 'age': 24, 'country': 'India'},\n",
       " {'first': 'Tim', 'last': 'David', 'age': 29, 'country': 'Nepal'},\n",
       " {'first': 'Anna', 'last': 'Rasgulla', 'age': 19, 'country': 'Winterland'}]"
      ]
     },
     "execution_count": 71,
     "metadata": {},
     "output_type": "execute_result"
    }
   ],
   "source": [
    "person_0 = {\n",
    "    'first': 'Sara',\n",
    "    'last': 'Joe',\n",
    "    'age': 24,\n",
    "    'country': 'India'\n",
    "}\n",
    "person_1 = {\n",
    "    'first': 'Tim',\n",
    "    'last': 'David',\n",
    "    'age': 29,\n",
    "    'country': 'Nepal'\n",
    "}\n",
    "person_2 = {\n",
    "    'first': 'Anna',\n",
    "    'last': 'Rasgulla',\n",
    "    'age': 19,\n",
    "    'country': 'Winterland'\n",
    "}\n",
    "people = [person_0, person_1, person_2]\n",
    "people"
   ]
  },
  {
   "cell_type": "code",
   "execution_count": 73,
   "id": "79ff9c81-d069-4e7f-bc9c-fa27f8e94afa",
   "metadata": {},
   "outputs": [
    {
     "name": "stdout",
     "output_type": "stream",
     "text": [
      "Name: Sara Joe age: 24 is a resident of India\n",
      "Name: Tim David age: 29 is a resident of Nepal\n",
      "Name: Anna Rasgulla age: 19 is a resident of Winterland\n"
     ]
    }
   ],
   "source": [
    "for person in people:\n",
    "    print(f\"Name: {person['first'].title()} {person['last'].title()} age: {person['age']} is a resident of {person['country'].title()}\")"
   ]
  },
  {
   "cell_type": "code",
   "execution_count": 74,
   "id": "ee1eb38d-f909-4f0c-a5c7-5cd14aafe310",
   "metadata": {},
   "outputs": [
    {
     "name": "stdout",
     "output_type": "stream",
     "text": [
      "Dheeraj's favourite place is Rishikesh.\n",
      "Dk's favourite place is Banaras.\n",
      "Kumar's favourite place is Kashi.\n"
     ]
    }
   ],
   "source": [
    "favourite_places = {\n",
    "    'dheeraj': 'rishikesh',\n",
    "    'dk': 'banaras',\n",
    "    'kumar': 'kashi'\n",
    "}\n",
    "for name,place in favourite_places.items():\n",
    "    print(f\"{name.title()}'s favourite place is {place.title()}.\")"
   ]
  },
  {
   "cell_type": "code",
   "execution_count": 82,
   "id": "40224a7a-ec8d-4a0b-a865-242132df9519",
   "metadata": {},
   "outputs": [
    {
     "name": "stdout",
     "output_type": "stream",
     "text": [
      "\n",
      "Province: Jhansi\n",
      "\tRuler: Rani Lakshmi Bai\n",
      "\tCountry: Bharat\n",
      "\tPopulation: 100000\n",
      "\n",
      "Province: Sindh\n",
      "\tRuler: Maharaja Ranjeet Singh\n",
      "\tCountry: Bharat\n",
      "\tPopulation: 500000\n",
      "\n",
      "Province: Mewar\n",
      "\tRuler: Maharana Pratap\n",
      "\tCountry: Bharat\n",
      "\tPopulation: 200000\n"
     ]
    }
   ],
   "source": [
    "cities = {\n",
    "    'jhansi': {\n",
    "        'ruler': 'Rani Lakshmi Bai',\n",
    "        'country': 'Bharat',\n",
    "        'population': 100_000\n",
    "    },\n",
    "    'sindh': {\n",
    "        'ruler': 'Maharaja Ranjeet Singh',\n",
    "        'country': 'Bharat',\n",
    "        'population': 500_000\n",
    "    },\n",
    "    'mewar': {\n",
    "        'ruler': 'Maharana Pratap',\n",
    "        'country': 'Bharat',\n",
    "        'population': 200_000\n",
    "    }\n",
    "}\n",
    "\n",
    "for city in cities.items():\n",
    "    print(f\"\\nProvince: {city[0].title()}\")\n",
    "    print(f\"\\tRuler: {city[1]['ruler'].title()}\")\n",
    "    print(f\"\\tCountry: {city[1]['country'].title()}\")\n",
    "    print(f\"\\tPopulation: {city[1]['population']}\")"
   ]
  },
  {
   "cell_type": "code",
   "execution_count": null,
   "id": "b2b253d8-52d3-4295-aec2-d3e66632814c",
   "metadata": {},
   "outputs": [],
   "source": []
  }
 ],
 "metadata": {
  "kernelspec": {
   "display_name": "Python 3 (ipykernel)",
   "language": "python",
   "name": "python3"
  },
  "language_info": {
   "codemirror_mode": {
    "name": "ipython",
    "version": 3
   },
   "file_extension": ".py",
   "mimetype": "text/x-python",
   "name": "python",
   "nbconvert_exporter": "python",
   "pygments_lexer": "ipython3",
   "version": "3.11.5"
  }
 },
 "nbformat": 4,
 "nbformat_minor": 5
}
